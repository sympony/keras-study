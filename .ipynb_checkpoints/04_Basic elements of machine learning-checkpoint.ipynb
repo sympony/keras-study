{
 "cells": [
  {
   "cell_type": "code",
   "execution_count": 7,
   "id": "5525566f",
   "metadata": {},
   "outputs": [],
   "source": [
    "import warnings\n",
    "warnings.filterwarnings(action='ignore')"
   ]
  },
  {
   "cell_type": "code",
   "execution_count": null,
   "id": "b078882b",
   "metadata": {},
   "outputs": [],
   "source": [
    "from keras.datasets import imdb\n",
    "import numpy as np\n",
    "\n",
    "# holdout validation\n",
    "\n",
    "num_validation_samples = 10000\n",
    "\n",
    "np.random.shuffle(data)\n",
    "\n",
    "validation_data = data[:num_validation_samples] # 검증 세트를 만듭니다.\n",
    "data = data[num_validation_samples:]\n",
    "\n",
    "training_data = data[:] # 훈련 세트를 만듭니다.\n",
    "\n",
    "model = get_model()\n",
    "model.train(trainig_data)\n",
    "validation_score = model.evaluate(validation_data) # 훈련세트에서 모델을 훈련하고 검증 세트로 평가합니다.\n",
    "\n",
    "# 여기에서 모델을 튜닝하고, 다시 훈련하고 평가, 모델 튜닝, 훈련, 평가...\n",
    "\n",
    "model = get_model()\n",
    "model.train(np.concatenate([training_data, validation_data])) \n",
    "# 하이퍼파라미터 튜닝이 끝나면 테스트 데이터를 제외한 모든 데이터를 사용하여 모델을 다시 훈련시킵니다.\n",
    "\n",
    "test_score = model.evaluate(test_data)\n"
   ]
  },
  {
   "cell_type": "code",
   "execution_count": null,
   "id": "3ca24dad",
   "metadata": {},
   "outputs": [],
   "source": [
    "k = 4\n",
    "num_validation_samples = len(data) // k\n",
    "\n",
    "np.random.shuffle(data)\n",
    "\n",
    "validation_scores =[]\n",
    "for fold in range(k):\n",
    "    # 검증 데이터 부분을 선택합니다.\n",
    "    validation_data = data[num_validation_samples * fold: num_validation_samples * (fold + 1)]\n",
    "    # 남은 데이터를 훈련 데이터로 사용합니다. 리스트에서 + 연산자는 두 리스트를 더하는 것이 아니고 연결합니다.\n",
    "    training_data = data[: num_validation_samples * fold] + data[num_validation_samples * (fold + 1)]\n",
    "    \n",
    "    model = get_model() # 훈련되지 않은새로운 모델을 만듭니다.\n",
    "    model.train(trainig_data)\n",
    "    validation_score = model.evaluate(validation_data)\n",
    "    validation_scores.append(validation_score)\n",
    "    \n",
    "validation_score = np.average(validation_scores) # 검증 점수: K개 폴드의 검증 점수 평균\n",
    "\n",
    "model = get_model()\n",
    "model.train(data)\n",
    "test_score = model.evaluate(test_data) #테스트 데이터를 제외한 전체 데이터로 최종 모델을 훈련합니다."
   ]
  },
  {
   "cell_type": "code",
   "execution_count": 8,
   "id": "a0c3b956",
   "metadata": {},
   "outputs": [],
   "source": [
    "from keras.datasets import imdb\n",
    "import numpy as np\n",
    "\n",
    "(train_data, train_labels), (test_data, test_labels) = imdb.load_data(num_words=10000)\n",
    "\n",
    "def vectorize_sequences(sequences, dimension=10000):\n",
    "    # 크기가 (len(sequences), dimension))이고 모든 원소가 0인 행렬을 만듭니다\n",
    "    results = np.zeros((len(sequences), dimension))\n",
    "    for i, sequence in enumerate(sequences):\n",
    "        results[i, sequence] = 1.  # results[i]에서 특정 인덱스의 위치를 1로 만듭니다\n",
    "    return results\n",
    "\n",
    "# 훈련 데이터를 벡터로 변환합니다\n",
    "x_train = vectorize_sequences(train_data)\n",
    "# 테스트 데이터를 벡터로 변환합니다\n",
    "x_test = vectorize_sequences(test_data)\n",
    "# 레이블을 벡터로 변환합니다\n",
    "y_train = np.asarray(train_labels).astype('float32')\n",
    "y_test = np.asarray(test_labels).astype('float32')"
   ]
  },
  {
   "cell_type": "code",
   "execution_count": 2,
   "id": "0b5073bb",
   "metadata": {},
   "outputs": [],
   "source": [
    "from keras import models\n",
    "from keras import layers\n",
    "\n",
    "original_model = models.Sequential()\n",
    "original_model.add(layers.Dense(16, activation='relu', input_shape=(10000,)))\n",
    "original_model.add(layers.Dense(16, activation='relu'))\n",
    "original_model.add(layers.Dense(1, activation='sigmoid'))\n",
    "\n",
    "original_model.compile(optimizer='rmsprop',\n",
    "                       loss='binary_crossentropy',\n",
    "                       metrics=['acc'])"
   ]
  },
  {
   "cell_type": "code",
   "execution_count": 11,
   "id": "9c61f628",
   "metadata": {},
   "outputs": [],
   "source": [
    "smaller_model = models.Sequential()\n",
    "smaller_model.add(layers.Dense(6, activation='relu', input_shape=(10000,)))\n",
    "smaller_model.add(layers.Dense(6, activation='relu'))\n",
    "smaller_model.add(layers.Dense(1, activation='sigmoid'))\n",
    "\n",
    "smaller_model.compile(optimizer='rmsprop',\n",
    "                      loss='binary_crossentropy',\n",
    "                      metrics=['acc'])"
   ]
  },
  {
   "cell_type": "code",
   "execution_count": 12,
   "id": "eb314b6b",
   "metadata": {},
   "outputs": [
    {
     "name": "stdout",
     "output_type": "stream",
     "text": [
      "Epoch 1/20\n",
      "49/49 [==============================] - 5s 103ms/step - loss: 0.4584 - acc: 0.8230 - val_loss: 0.3483 - val_acc: 0.8780\n",
      "Epoch 2/20\n",
      "49/49 [==============================] - 1s 27ms/step - loss: 0.2657 - acc: 0.9095 - val_loss: 0.2971 - val_acc: 0.8822\n",
      "Epoch 3/20\n",
      "49/49 [==============================] - 1s 27ms/step - loss: 0.2023 - acc: 0.9292 - val_loss: 0.2792 - val_acc: 0.8892\n",
      "Epoch 4/20\n",
      "49/49 [==============================] - 1s 25ms/step - loss: 0.1705 - acc: 0.9398 - val_loss: 0.3129 - val_acc: 0.8756\n",
      "Epoch 5/20\n",
      "49/49 [==============================] - 1s 25ms/step - loss: 0.1475 - acc: 0.9483 - val_loss: 0.3208 - val_acc: 0.8764\n",
      "Epoch 6/20\n",
      "49/49 [==============================] - 1s 25ms/step - loss: 0.1283 - acc: 0.9560 - val_loss: 0.3278 - val_acc: 0.8766\n",
      "Epoch 7/20\n",
      "49/49 [==============================] - 1s 27ms/step - loss: 0.1124 - acc: 0.9628 - val_loss: 0.3583 - val_acc: 0.8714\n",
      "Epoch 8/20\n",
      "49/49 [==============================] - 1s 28ms/step - loss: 0.1000 - acc: 0.9668 - val_loss: 0.3758 - val_acc: 0.8708\n",
      "Epoch 9/20\n",
      "49/49 [==============================] - 1s 28ms/step - loss: 0.0883 - acc: 0.9714 - val_loss: 0.4094 - val_acc: 0.8650\n",
      "Epoch 10/20\n",
      "49/49 [==============================] - 1s 26ms/step - loss: 0.0791 - acc: 0.9749 - val_loss: 0.4488 - val_acc: 0.8595\n",
      "Epoch 11/20\n",
      "49/49 [==============================] - 1s 27ms/step - loss: 0.0708 - acc: 0.9776 - val_loss: 0.4642 - val_acc: 0.8600\n",
      "Epoch 12/20\n",
      "49/49 [==============================] - 1s 25ms/step - loss: 0.0597 - acc: 0.9825 - val_loss: 0.5033 - val_acc: 0.8584\n",
      "Epoch 13/20\n",
      "49/49 [==============================] - 1s 26ms/step - loss: 0.0542 - acc: 0.9840 - val_loss: 0.5177 - val_acc: 0.8591\n",
      "Epoch 14/20\n",
      "49/49 [==============================] - 1s 26ms/step - loss: 0.0467 - acc: 0.9864 - val_loss: 0.5514 - val_acc: 0.8573\n",
      "Epoch 15/20\n",
      "49/49 [==============================] - 1s 26ms/step - loss: 0.0398 - acc: 0.9897 - val_loss: 0.5883 - val_acc: 0.8554\n",
      "Epoch 16/20\n",
      "49/49 [==============================] - 1s 29ms/step - loss: 0.0346 - acc: 0.9908 - val_loss: 0.6241 - val_acc: 0.8535\n",
      "Epoch 17/20\n",
      "49/49 [==============================] - 1s 28ms/step - loss: 0.0298 - acc: 0.9922 - val_loss: 0.6874 - val_acc: 0.8481\n",
      "Epoch 18/20\n",
      "49/49 [==============================] - 1s 30ms/step - loss: 0.0247 - acc: 0.9940 - val_loss: 0.6974 - val_acc: 0.8507\n",
      "Epoch 19/20\n",
      "49/49 [==============================] - 1s 25ms/step - loss: 0.0227 - acc: 0.9945 - val_loss: 0.7648 - val_acc: 0.8480\n",
      "Epoch 20/20\n",
      "49/49 [==============================] - 1s 23ms/step - loss: 0.0185 - acc: 0.9960 - val_loss: 0.7804 - val_acc: 0.8481\n"
     ]
    }
   ],
   "source": [
    "original_hist = original_model.fit(x_train, y_train,\n",
    "                                   epochs=20,\n",
    "                                   batch_size=512,\n",
    "                                   validation_data=(x_test, y_test))"
   ]
  },
  {
   "cell_type": "code",
   "execution_count": 14,
   "id": "d7ee8345",
   "metadata": {},
   "outputs": [
    {
     "name": "stdout",
     "output_type": "stream",
     "text": [
      "Epoch 1/20\n",
      "49/49 [==============================] - 8s 155ms/step - loss: 0.5150 - acc: 0.8068 - val_loss: 0.3995 - val_acc: 0.8763\n",
      "Epoch 2/20\n",
      "49/49 [==============================] - 2s 32ms/step - loss: 0.3134 - acc: 0.9032 - val_loss: 0.3108 - val_acc: 0.8873\n",
      "Epoch 3/20\n",
      "49/49 [==============================] - 1s 30ms/step - loss: 0.2358 - acc: 0.9221 - val_loss: 0.2842 - val_acc: 0.8893\n",
      "Epoch 4/20\n",
      "49/49 [==============================] - 1s 27ms/step - loss: 0.1950 - acc: 0.9337 - val_loss: 0.2793 - val_acc: 0.8880\n",
      "Epoch 5/20\n",
      "49/49 [==============================] - 1s 29ms/step - loss: 0.1684 - acc: 0.9428 - val_loss: 0.2916 - val_acc: 0.8840\n",
      "Epoch 6/20\n",
      "49/49 [==============================] - 1s 28ms/step - loss: 0.1472 - acc: 0.9516 - val_loss: 0.2987 - val_acc: 0.8832\n",
      "Epoch 7/20\n",
      "49/49 [==============================] - 1s 26ms/step - loss: 0.1299 - acc: 0.9576 - val_loss: 0.3161 - val_acc: 0.8784\n",
      "Epoch 8/20\n",
      "49/49 [==============================] - 1s 26ms/step - loss: 0.1169 - acc: 0.9621 - val_loss: 0.3276 - val_acc: 0.8790\n",
      "Epoch 9/20\n",
      "49/49 [==============================] - 1s 30ms/step - loss: 0.1052 - acc: 0.9672 - val_loss: 0.3444 - val_acc: 0.8754\n",
      "Epoch 10/20\n",
      "49/49 [==============================] - 1s 30ms/step - loss: 0.0948 - acc: 0.9708 - val_loss: 0.3668 - val_acc: 0.8715\n",
      "Epoch 11/20\n",
      "49/49 [==============================] - 1s 28ms/step - loss: 0.0849 - acc: 0.9740 - val_loss: 0.3837 - val_acc: 0.8707\n",
      "Epoch 12/20\n",
      "49/49 [==============================] - 1s 25ms/step - loss: 0.0756 - acc: 0.9778 - val_loss: 0.4066 - val_acc: 0.8671\n",
      "Epoch 13/20\n",
      "49/49 [==============================] - 1s 24ms/step - loss: 0.0684 - acc: 0.9810 - val_loss: 0.4387 - val_acc: 0.8617\n",
      "Epoch 14/20\n",
      "49/49 [==============================] - 1s 25ms/step - loss: 0.0605 - acc: 0.9840 - val_loss: 0.4706 - val_acc: 0.8600\n",
      "Epoch 15/20\n",
      "49/49 [==============================] - 1s 29ms/step - loss: 0.0542 - acc: 0.9857 - val_loss: 0.4864 - val_acc: 0.8590\n",
      "Epoch 16/20\n",
      "49/49 [==============================] - 1s 24ms/step - loss: 0.0471 - acc: 0.9877 - val_loss: 0.5242 - val_acc: 0.8555\n",
      "Epoch 17/20\n",
      "49/49 [==============================] - 1s 25ms/step - loss: 0.0425 - acc: 0.9897 - val_loss: 0.5519 - val_acc: 0.8546\n",
      "Epoch 18/20\n",
      "49/49 [==============================] - 1s 27ms/step - loss: 0.0370 - acc: 0.9916 - val_loss: 0.5667 - val_acc: 0.8560\n",
      "Epoch 19/20\n",
      "49/49 [==============================] - 1s 27ms/step - loss: 0.0326 - acc: 0.9923 - val_loss: 0.5883 - val_acc: 0.8540\n",
      "Epoch 20/20\n",
      "49/49 [==============================] - 1s 27ms/step - loss: 0.0285 - acc: 0.9937 - val_loss: 0.6172 - val_acc: 0.8546\n"
     ]
    }
   ],
   "source": [
    "smaller_model_hist = smaller_model.fit(x_train, y_train,\n",
    "                                       epochs=20,\n",
    "                                       batch_size=512,\n",
    "                                       validation_data=(x_test, y_test))"
   ]
  },
  {
   "cell_type": "code",
   "execution_count": 15,
   "id": "da8d7668",
   "metadata": {},
   "outputs": [],
   "source": [
    "epochs = range(1, 21)\n",
    "original_val_loss = original_hist.history['val_loss']\n",
    "smaller_model_val_loss = smaller_model_hist.history['val_loss']"
   ]
  },
  {
   "cell_type": "code",
   "execution_count": 3,
   "id": "9b5a4bf7",
   "metadata": {},
   "outputs": [],
   "source": [
    "import matplotlib.pyplot as plt"
   ]
  },
  {
   "cell_type": "code",
   "execution_count": null,
   "id": "c0cdb6d5",
   "metadata": {
    "scrolled": true
   },
   "outputs": [],
   "source": [
    "# ‘b+’는 파란색 덧셈 기호을 의미합니다\n",
    "plt.plot(epochs, original_val_loss, 'b+', label='Original model')\n",
    "# ‘bo’는 파란색 점을 의미합니다\n",
    "plt.plot(epochs, smaller_model_val_loss, 'bo', label='Smaller model')\n",
    "plt.xlabel('Epochs')\n",
    "plt.ylabel('Validation loss')\n",
    "plt.legend()\n",
    "\n",
    "plt.show()"
   ]
  },
  {
   "cell_type": "code",
   "execution_count": null,
   "id": "43812ad2",
   "metadata": {},
   "outputs": [],
   "source": [
    "bigger_model = models.Sequential()\n",
    "bigger_model.add(layers.Dense(1024, activation='relu', input_shape=(10000,)))\n",
    "bigger_model.add(layers.Dense(1024, activation='relu'))\n",
    "bigger_model.add(layers.Dense(1, activation='sigmoid'))\n",
    "\n",
    "bigger_model.compile(optimizer='rmsprop',\n",
    "                     loss='binary_crossentropy',\n",
    "                     metrics=['acc'])"
   ]
  },
  {
   "cell_type": "code",
   "execution_count": null,
   "id": "b7bd63d9",
   "metadata": {},
   "outputs": [],
   "source": [
    "bigger_model_hist = bigger_model.fit(x_train, y_train,\n",
    "                                     epochs=20,\n",
    "                                     batch_size=512,\n",
    "                                     validation_data=(x_test, y_test))"
   ]
  },
  {
   "cell_type": "code",
   "execution_count": null,
   "id": "18867100",
   "metadata": {},
   "outputs": [],
   "source": [
    "bigger_model_val_loss = bigger_model_hist.history['val_loss']\n",
    "\n",
    "plt.plot(epochs, original_val_loss, 'b+', label='Original model')\n",
    "plt.plot(epochs, bigger_model_val_loss, 'bo', label='Bigger model')\n",
    "plt.xlabel('Epochs')\n",
    "plt.ylabel('Validation loss')\n",
    "plt.legend()\n",
    "\n",
    "plt.show()"
   ]
  },
  {
   "cell_type": "code",
   "execution_count": null,
   "id": "66a9c405",
   "metadata": {},
   "outputs": [],
   "source": [
    "original_train_loss = original_hist.history['loss']\n",
    "bigger_model_train_loss = bigger_model_hist.history['loss']\n",
    "\n",
    "plt.plot(epochs, original_train_loss, 'b+', label='Original model')\n",
    "plt.plot(epochs, bigger_model_train_loss, 'bo', label='Bigger model')\n",
    "plt.xlabel('Epochs')\n",
    "plt.ylabel('Training loss')\n",
    "plt.legend()\n",
    "\n",
    "plt.show()"
   ]
  },
  {
   "cell_type": "code",
   "execution_count": null,
   "id": "ec1419de",
   "metadata": {},
   "outputs": [],
   "source": [
    "from keras import regularizers\n",
    "\n",
    "l2_model = models.Sequential()\n",
    "l2_model.add(layers.Dense(16, kernel_regularizer=regularizers.l2(0.001),\n",
    "                          activation='relu', input_shape=(10000,)))\n",
    "l2_model.add(layers.Dense(16, kernel_regularizer=regularizers.l2(0.001),\n",
    "                          activation='relu'))\n",
    "l2_model.add(layers.Dense(1, activation='sigmoid'))"
   ]
  },
  {
   "cell_type": "code",
   "execution_count": null,
   "id": "52b59bb5",
   "metadata": {},
   "outputs": [],
   "source": [
    "l2_model.compile(optimizer='rmsprop',\n",
    "                 loss='binary_crossentropy',\n",
    "                 metrics=['acc'])"
   ]
  },
  {
   "cell_type": "code",
   "execution_count": null,
   "id": "6a2cc958",
   "metadata": {},
   "outputs": [],
   "source": [
    "l2_model_hist = l2_model.fit(x_train, y_train,\n",
    "                             epochs=20,\n",
    "                             batch_size=512,\n",
    "                             validation_data=(x_test, y_test))"
   ]
  },
  {
   "cell_type": "code",
   "execution_count": null,
   "id": "72b61ac9",
   "metadata": {},
   "outputs": [],
   "source": [
    "l2_model_val_loss = l2_model_hist.history['val_loss']\n",
    "\n",
    "plt.plot(epochs, original_val_loss, 'b+', label='Original model')\n",
    "plt.plot(epochs, l2_model_val_loss, 'bo', label='L2-regularized model')\n",
    "plt.xlabel('Epochs')\n",
    "plt.ylabel('Validation loss')\n",
    "plt.legend()\n",
    "\n",
    "plt.show()"
   ]
  },
  {
   "cell_type": "code",
   "execution_count": null,
   "id": "608ff7e6",
   "metadata": {},
   "outputs": [],
   "source": [
    "from keras import regularizers\n",
    "\n",
    "regularizers.l1(0.001)  # L1 규제\n",
    "\n",
    "regularizers.l1_l2(l1=0.001, l2=0.001)  # L1과 L2 규제 병행"
   ]
  },
  {
   "cell_type": "code",
   "execution_count": null,
   "id": "01e451bb",
   "metadata": {},
   "outputs": [],
   "source": [
    "l1_model = models.Sequential()\n",
    "l1_model.add(layers.Dense(16, kernel_regularizer=regularizers.l1(0.0001),\n",
    "                          activation='relu', input_shape=(10000,)))\n",
    "l1_model.add(layers.Dense(16, kernel_regularizer=regularizers.l1(0.0001),\n",
    "                          activation='relu'))\n",
    "l1_model.add(layers.Dense(1, activation='sigmoid'))"
   ]
  },
  {
   "cell_type": "code",
   "execution_count": null,
   "id": "afc66940",
   "metadata": {},
   "outputs": [],
   "source": [
    "l1_model.compile(optimizer='rmsprop',\n",
    "                 loss='binary_crossentropy',\n",
    "                 metrics=['acc'])"
   ]
  },
  {
   "cell_type": "code",
   "execution_count": null,
   "id": "273814be",
   "metadata": {},
   "outputs": [],
   "source": [
    "l1_model_hist = l1_model.fit(x_train, y_train,\n",
    "                             epochs=20,\n",
    "                             batch_size=512,\n",
    "                             validation_data=(x_test, y_test))"
   ]
  },
  {
   "cell_type": "code",
   "execution_count": null,
   "id": "97f184e9",
   "metadata": {},
   "outputs": [],
   "source": [
    "l1_model_val_loss = l1_model_hist.history['val_loss']\n",
    "\n",
    "plt.plot(epochs, original_val_loss, 'b+', label='Original model')\n",
    "plt.plot(epochs, l1_model_val_loss, 'bo', label='L1-regularized model')\n",
    "plt.xlabel('Epochs')\n",
    "plt.ylabel('Validation loss')\n",
    "plt.legend()\n",
    "\n",
    "plt.show()"
   ]
  },
  {
   "cell_type": "code",
   "execution_count": null,
   "id": "a287cd51",
   "metadata": {},
   "outputs": [],
   "source": [
    "l1l2_model = models.Sequential()\n",
    "l1l2_model.add(layers.Dense(16, kernel_regularizer=regularizers.l1_l2(l1=0.0001, l2=0.0001),\n",
    "                            activation='relu', input_shape=(10000,)))\n",
    "l1l2_model.add(layers.Dense(16, kernel_regularizer=regularizers.l1_l2(l1=0.0001, l2=0.0001),\n",
    "                            activation='relu'))\n",
    "l1l2_model.add(layers.Dense(1, activation='sigmoid'))"
   ]
  },
  {
   "cell_type": "code",
   "execution_count": null,
   "id": "979f5eba",
   "metadata": {},
   "outputs": [],
   "source": [
    "l1l2_model.compile(optimizer='rmsprop',\n",
    "                   loss='binary_crossentropy',\n",
    "                   metrics=['acc'])"
   ]
  },
  {
   "cell_type": "code",
   "execution_count": null,
   "id": "ebd54848",
   "metadata": {},
   "outputs": [],
   "source": [
    "l1l2_model_hist = l1l2_model.fit(x_train, y_train,\n",
    "                                 epochs=20,\n",
    "                                 batch_size=512,\n",
    "                                 validation_data=(x_test, y_test))"
   ]
  },
  {
   "cell_type": "code",
   "execution_count": null,
   "id": "2c107e71",
   "metadata": {},
   "outputs": [],
   "source": [
    "l1l2_model_val_loss = l1l2_model_hist.history['val_loss']\n",
    "\n",
    "plt.plot(epochs, original_val_loss, 'b+', label='Original model')\n",
    "plt.plot(epochs, l1l2_model_val_loss, 'bo', label='L1,L2-regularized model')\n",
    "plt.xlabel('Epochs')\n",
    "plt.ylabel('Validation loss')\n",
    "plt.legend()\n",
    "\n",
    "plt.show()"
   ]
  },
  {
   "cell_type": "code",
   "execution_count": null,
   "id": "8e1ccad9",
   "metadata": {},
   "outputs": [],
   "source": [
    "# 훈련할 때 유닛의 출력중 50%를 버립니다.\n",
    "layer_output *= np.random.randint(0, high=2, size=layer_output.shape) "
   ]
  },
  {
   "cell_type": "code",
   "execution_count": null,
   "id": "87df80b6",
   "metadata": {},
   "outputs": [],
   "source": [
    "layer_output *= 0.5 #테스트 단계"
   ]
  },
  {
   "cell_type": "code",
   "execution_count": null,
   "id": "86d76904",
   "metadata": {},
   "outputs": [],
   "source": [
    "layer_output *= np.random.randict(0, high=2, size=layer_output.shape)  # 훈련 단계\n",
    "layer_output /= 0.5 # 여기에서 스케일을 낮추는 대신 높입니다.\n",
    "\n",
    "model.add(layers.Dropout(0.5))"
   ]
  },
  {
   "cell_type": "code",
   "execution_count": 5,
   "id": "b4f68f7f",
   "metadata": {},
   "outputs": [],
   "source": [
    "dpt_model = models.Sequential()\n",
    "dpt_model.add(layers.Dense(16, activation='relu', input_shape=(10000,)))\n",
    "dpt_model.add(layers.Dropout(0.5))\n",
    "dpt_model.add(layers.Dense(16, activation='relu'))\n",
    "dpt_model.add(layers.Dropout(0.5))\n",
    "dpt_model.add(layers.Dense(1, activation='sigmoid'))\n",
    "\n",
    "dpt_model.compile(optimizer='rmsprop',\n",
    "                       loss='binary_crossentropy',\n",
    "                       metrics=['acc'])"
   ]
  },
  {
   "cell_type": "code",
   "execution_count": 9,
   "id": "d9223eda",
   "metadata": {},
   "outputs": [
    {
     "name": "stdout",
     "output_type": "stream",
     "text": [
      "Epoch 1/20\n",
      "49/49 [==============================] - 7s 146ms/step - loss: 0.6042 - acc: 0.6772 - val_loss: 0.4717 - val_acc: 0.8632\n",
      "Epoch 2/20\n",
      "49/49 [==============================] - 1s 29ms/step - loss: 0.4615 - acc: 0.8123 - val_loss: 0.3582 - val_acc: 0.8805\n",
      "Epoch 3/20\n",
      "49/49 [==============================] - 1s 26ms/step - loss: 0.3712 - acc: 0.8623 - val_loss: 0.3097 - val_acc: 0.8870\n",
      "Epoch 4/20\n",
      "49/49 [==============================] - 1s 26ms/step - loss: 0.3138 - acc: 0.8916 - val_loss: 0.2928 - val_acc: 0.8887\n",
      "Epoch 5/20\n",
      "49/49 [==============================] - 1s 27ms/step - loss: 0.2682 - acc: 0.9102 - val_loss: 0.2867 - val_acc: 0.8902\n",
      "Epoch 6/20\n",
      "49/49 [==============================] - 1s 26ms/step - loss: 0.2396 - acc: 0.9205 - val_loss: 0.3044 - val_acc: 0.8862\n",
      "Epoch 7/20\n",
      "49/49 [==============================] - 1s 25ms/step - loss: 0.2134 - acc: 0.9315 - val_loss: 0.3203 - val_acc: 0.8870\n",
      "Epoch 8/20\n",
      "49/49 [==============================] - 1s 26ms/step - loss: 0.1898 - acc: 0.9381 - val_loss: 0.3281 - val_acc: 0.8863\n",
      "Epoch 9/20\n",
      "49/49 [==============================] - 1s 26ms/step - loss: 0.1759 - acc: 0.9447 - val_loss: 0.3454 - val_acc: 0.8843\n",
      "Epoch 10/20\n",
      "49/49 [==============================] - 1s 25ms/step - loss: 0.1613 - acc: 0.9472 - val_loss: 0.3808 - val_acc: 0.8830\n",
      "Epoch 11/20\n",
      "49/49 [==============================] - 1s 26ms/step - loss: 0.1501 - acc: 0.9524 - val_loss: 0.3952 - val_acc: 0.8802\n",
      "Epoch 12/20\n",
      "49/49 [==============================] - 1s 26ms/step - loss: 0.1417 - acc: 0.9540 - val_loss: 0.4462 - val_acc: 0.8778\n",
      "Epoch 13/20\n",
      "49/49 [==============================] - 1s 25ms/step - loss: 0.1327 - acc: 0.9572 - val_loss: 0.4676 - val_acc: 0.8775\n",
      "Epoch 14/20\n",
      "49/49 [==============================] - 1s 27ms/step - loss: 0.1242 - acc: 0.9590 - val_loss: 0.4745 - val_acc: 0.8779\n",
      "Epoch 15/20\n",
      "49/49 [==============================] - 1s 25ms/step - loss: 0.1238 - acc: 0.9600 - val_loss: 0.4706 - val_acc: 0.8729\n",
      "Epoch 16/20\n",
      "49/49 [==============================] - 1s 25ms/step - loss: 0.1119 - acc: 0.9632 - val_loss: 0.5284 - val_acc: 0.8764\n",
      "Epoch 17/20\n",
      "49/49 [==============================] - 1s 26ms/step - loss: 0.1172 - acc: 0.9624 - val_loss: 0.5549 - val_acc: 0.8732\n",
      "Epoch 18/20\n",
      "49/49 [==============================] - 1s 27ms/step - loss: 0.1078 - acc: 0.9659 - val_loss: 0.6053 - val_acc: 0.8693\n",
      "Epoch 19/20\n",
      "49/49 [==============================] - 1s 27ms/step - loss: 0.1122 - acc: 0.9657 - val_loss: 0.5637 - val_acc: 0.8713\n",
      "Epoch 20/20\n",
      "49/49 [==============================] - 1s 27ms/step - loss: 0.1025 - acc: 0.9679 - val_loss: 0.6021 - val_acc: 0.8711\n"
     ]
    }
   ],
   "source": [
    "dpt_model_hist = dpt_model.fit(x_train, y_train,\n",
    "                               epochs=20,\n",
    "                               batch_size=512,\n",
    "                               validation_data=(x_test, y_test))"
   ]
  },
  {
   "cell_type": "code",
   "execution_count": 16,
   "id": "aebbfeb9",
   "metadata": {},
   "outputs": [
    {
     "data": {
      "image/png": "[encoded data removed]",
      "text/plain": [
       "<Figure size 432x288 with 1 Axes>"
      ]
     },
     "metadata": {
      "needs_background": "light"
     },
     "output_type": "display_data"
    }
   ],
   "source": [
    "dpt_model_val_loss = dpt_model_hist.history['val_loss']\n",
    "\n",
    "plt.plot(epochs, original_val_loss, 'b+', label='Original model')\n",
    "plt.plot(epochs, dpt_model_val_loss, 'bo', label='Dropout-regularized model')\n",
    "plt.xlabel('Epochs')\n",
    "plt.ylabel('Validation loss')\n",
    "plt.legend()\n",
    "\n",
    "plt.show()"
   ]
  },
  {
   "cell_type": "code",
   "execution_count": null,
   "id": "a459ea14",
   "metadata": {},
   "outputs": [],
   "source": []
  }
 ],
 "metadata": {
  "kernelspec": {
   "display_name": "Python 3",
   "language": "python",
   "name": "python3"
  },
  "language_info": {
   "codemirror_mode": {
    "name": "ipython",
    "version": 3
   },
   "file_extension": ".py",
   "mimetype": "text/x-python",
   "name": "python",
   "nbconvert_exporter": "python",
   "pygments_lexer": "ipython3",
   "version": "3.8.8"
  }
 },
 "nbformat": 4,
 "nbformat_minor": 5
}
