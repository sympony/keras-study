{
 "cells": [
  {
   "cell_type": "code",
   "execution_count": 3,
   "id": "4ed89f9c",
   "metadata": {},
   "outputs": [],
   "source": [
    "import warnings\n",
    "warnings.filterwarnings(action='ignore')"
   ]
  },
  {
   "cell_type": "code",
   "execution_count": 4,
   "id": "114db2cc",
   "metadata": {},
   "outputs": [],
   "source": [
    "import numpy as np\n",
    "\n",
    "# 초기 데이터: 각 원소가 샘플입니다.(이 예에서 하나의 샘플이 하나의 문장입니다. 하지만 문서 전체가 될 수도 있습니다.)\n",
    "samples = ['The cat set on the mat.', 'The dog ate my homework.']\n",
    "\n",
    "# 데이터에 있는 모든 토큰의 인덱스를 구축합니다.\n",
    "token_index = {}\n",
    "for sample in samples:\n",
    "    # split()메서드를 사용하여 샘플을 토큰으로 나눕니다. 실전에서는 구두점과 특수 문자도 사용합니다.\n",
    "    for word in sample.split():\n",
    "        if word not in token_index:\n",
    "            # 단어마다 고유한 인덱스를 할당합니다. 인덱스 0은 사용하지 않습니다\n",
    "            token_index[word] = len(token_index) + 1\n",
    "            \n",
    "# 샘플을 벡터로 변환합니다. 각 샘플에서 max_length까지 단어만 사용합니다.\n",
    "max_length = 10\n",
    "\n",
    "# 결과를 저장할 배열입니다.\n",
    "results = np.zeros(shape=(len(samples), max_length, max(token_index.values()) + 1))\n",
    "for i, word in enumerate(samples):\n",
    "    for j, word in list(enumerate(sample.split()))[:max_length]:\n",
    "        index = token_index.get(word)\n",
    "        results[i, j, index] = 1."
   ]
  },
  {
   "cell_type": "code",
   "execution_count": 5,
   "id": "ba2f258b",
   "metadata": {},
   "outputs": [],
   "source": [
    "import string\n",
    "\n",
    "samples = ['The cat set on the mat.', 'The dog ate my homework.']\n",
    "# 출력 가능한 모든 아스키(ASCII)문자\n",
    "characters = string.printable\n",
    "token_index = dict(zip(characters, range(1, len(characters) + 1)))\n",
    "\n",
    "max_length = 50\n",
    "results = np.zeros((len(samples), max_length, max(token_index.values()) + 1))\n",
    "for i, sample in enumerate(samples):\n",
    "    for j, character in enumerate(sample):\n",
    "        index = token_index.get(character)\n",
    "        results[i, j, index] = 1."
   ]
  },
  {
   "cell_type": "code",
   "execution_count": 6,
   "id": "86f0a93f",
   "metadata": {},
   "outputs": [
    {
     "name": "stdout",
     "output_type": "stream",
     "text": [
      "9개의 고유한 토큰을 찾았습니다.\n"
     ]
    }
   ],
   "source": [
    "from keras.preprocessing.text import Tokenizer\n",
    "\n",
    "samples = ['The cat set on the mat.', 'The dog ate my homework.']\n",
    "\n",
    "# 가장 빈도가 높은 1,000개의 단어만 선택하도록 Tokenizer 객체를 만듭니다.\n",
    "tokenizer = Tokenizer(num_words=1000)\n",
    "# 단어에 인덱스를 구축합니다.\n",
    "tokenizer.fit_on_texts(samples)\n",
    "\n",
    "# 문자열을 정수 인덱스의 리스트로 변환합니다.\n",
    "sequences = tokenizer.texts_to_sequences(samples)\n",
    "# 직접 원-핫 이진 벡터 표현을 얻을 수 있습니다. 원-핫 인코딩 외에 다른 벡터화 방법들도 제공합니다.\n",
    "one_hot_results = tokenizer.texts_to_matrix(samples, mode='binary')\n",
    "# 계산된 단어 인덱스를 구합니다.\n",
    "word_index = tokenizer.word_index\n",
    "print('%s개의 고유한 토큰을 찾았습니다.' % len(word_index))"
   ]
  },
  {
   "cell_type": "code",
   "execution_count": 7,
   "id": "5513a1c1",
   "metadata": {},
   "outputs": [],
   "source": [
    "samples = ['The cat set on the mat.', 'The dog ate my homework.']\n",
    "\n",
    "# 단어를 크기가 1,000인 벡터로 저장합니다. 1,000개(또는 그 이상)의 단어가 있다면 \n",
    "# 해싱 충돌이 늘어나고 인코딩의 정확도가 감소될 것입니다.\n",
    "dimensionality = 1000\n",
    "max_length = 10\n",
    "\n",
    "results = np.zeros((len(samples), max_length, dimensionality))\n",
    "for i, sample in enumerate(samples):\n",
    "    for j, word in list(enumerate(sample.split()))[:max_length]:\n",
    "        # 단어를 해싱하여 0과 1,000 사이의 랜덤한 정수 인덱스로 변환합니다.\n",
    "        index = abs(hash(word)) % dimensionality\n",
    "        results[i, j, index] = 1."
   ]
  },
  {
   "cell_type": "code",
   "execution_count": 8,
   "id": "291706b4",
   "metadata": {},
   "outputs": [],
   "source": [
    "from keras.layers import Embedding\n",
    "\n",
    "# Embedding 층은 적어도 2개의 매개변수를 받습니다.\n",
    "# 가능한 토큰의 개수(여기서는 1,000으로 단어 인덱스 최댓값 + 1입니다)와 임베딩 차원(여기서는 64)입니다\n",
    "embedding_layer = Embedding(1000, 64)"
   ]
  },
  {
   "cell_type": "code",
   "execution_count": 9,
   "id": "149577b4",
   "metadata": {},
   "outputs": [],
   "source": [
    "from keras.datasets import imdb\n",
    "from keras import preprocessing\n",
    "\n",
    "# 특성으로 사용할 단어의 수\n",
    "max_features = 10000\n",
    "# 사용할 텍스트의 길이(가장 빈번한 max_features개의 단어만 사용합니다.)\n",
    "maxlen = 20 \n",
    "\n",
    "# 정수 리스트로 데이터를 로드합니다.\n",
    "(x_train, y_train), (x_test, y_test) = imdb.load_data(num_words=max_features)\n",
    "\n",
    "# 리스트를(samples, maxlen)크기의 2D 정수 텐서로 변환합니다.\n",
    "x_train = preprocessing.sequence.pad_sequences(x_train, maxlen=maxlen)\n",
    "x_test = preprocessing.sequence.pad_sequences(x_test, maxlen=maxlen)"
   ]
  },
  {
   "cell_type": "code",
   "execution_count": 10,
   "id": "bdd6351a",
   "metadata": {},
   "outputs": [
    {
     "name": "stdout",
     "output_type": "stream",
     "text": [
      "Model: \"sequential_1\"\n",
      "_________________________________________________________________\n",
      "Layer (type)                 Output Shape              Param #   \n",
      "=================================================================\n",
      "embedding_1 (Embedding)      (None, 20, 8)             80000     \n",
      "_________________________________________________________________\n",
      "flatten (Flatten)            (None, 160)               0         \n",
      "_________________________________________________________________\n",
      "dense (Dense)                (None, 1)                 161       \n",
      "=================================================================\n",
      "Total params: 80,161\n",
      "Trainable params: 80,161\n",
      "Non-trainable params: 0\n",
      "_________________________________________________________________\n",
      "Epoch 1/10\n",
      "625/625 [==============================] - 1s 2ms/step - loss: 0.6747 - accuracy: 0.6088 - val_loss: 0.6293 - val_accuracy: 0.6948\n",
      "Epoch 2/10\n",
      "625/625 [==============================] - 1s 1ms/step - loss: 0.5515 - accuracy: 0.7502 - val_loss: 0.5301 - val_accuracy: 0.7268\n",
      "Epoch 3/10\n",
      "625/625 [==============================] - 1s 1ms/step - loss: 0.4643 - accuracy: 0.7875 - val_loss: 0.5022 - val_accuracy: 0.7416\n",
      "Epoch 4/10\n",
      "625/625 [==============================] - 1s 1ms/step - loss: 0.4218 - accuracy: 0.8095 - val_loss: 0.4962 - val_accuracy: 0.7478\n",
      "Epoch 5/10\n",
      "625/625 [==============================] - 1s 1ms/step - loss: 0.3929 - accuracy: 0.8242 - val_loss: 0.4953 - val_accuracy: 0.7520\n",
      "Epoch 6/10\n",
      "625/625 [==============================] - 1s 1ms/step - loss: 0.3697 - accuracy: 0.8375 - val_loss: 0.4998 - val_accuracy: 0.7484\n",
      "Epoch 7/10\n",
      "625/625 [==============================] - 1s 1ms/step - loss: 0.3496 - accuracy: 0.8474 - val_loss: 0.5053 - val_accuracy: 0.7498\n",
      "Epoch 8/10\n",
      "625/625 [==============================] - 1s 1ms/step - loss: 0.3309 - accuracy: 0.8573 - val_loss: 0.5131 - val_accuracy: 0.7500\n",
      "Epoch 9/10\n",
      "625/625 [==============================] - 1s 1ms/step - loss: 0.3132 - accuracy: 0.8691 - val_loss: 0.5210 - val_accuracy: 0.7486\n",
      "Epoch 10/10\n",
      "625/625 [==============================] - 1s 1ms/step - loss: 0.2968 - accuracy: 0.8775 - val_loss: 0.5294 - val_accuracy: 0.7478\n"
     ]
    }
   ],
   "source": [
    "from keras.models import Sequential\n",
    "from keras.layers import Flatten, Dense, Embedding\n",
    "\n",
    "model = Sequential()\n",
    "# 나중에 임베딩된 입력을 Flatten 층에서 펼치기 위해 Embedding 층에 input_length를 지정합니다.\n",
    "# Embedding 층의 출력 크기는 (samples, maxlen, 8)이 됩니다.\n",
    "model.add(Embedding(10000, 8, input_length=maxlen))\n",
    "\n",
    "# 3D 임베딩 텐서클(smaples, maxlen * 8)크기의 2D 텐서로 펼칩니다.\n",
    "model.add(Flatten())\n",
    "\n",
    "model.add(Dense(1, activation='sigmoid')) # 분류기를 추가합니다.\n",
    "model.compile(optimizer='rmsprop', loss='binary_crossentropy', metrics=['accuracy'])\n",
    "model.summary()\n",
    "\n",
    "history = model.fit(x_train, y_train, epochs=10, batch_size=32, validation_split=0.2)"
   ]
  },
  {
   "cell_type": "code",
   "execution_count": 11,
   "id": "2a21d55e",
   "metadata": {},
   "outputs": [],
   "source": [
    "import os\n",
    "\n",
    "imdb_dir = 'C:/Users/iws1/Downloads/deep-learning-with-python-notebooks-master/datasets/aclImdb'\n",
    "train_dir = os.path.join(imdb_dir, 'train')\n",
    "\n",
    "labels = []\n",
    "texts = []\n",
    "\n",
    "for label_type in ['neg', 'pos']:\n",
    "    dir_name = os.path.join(train_dir, label_type)\n",
    "    for fname in os.listdir(dir_name):\n",
    "        if fname[-4:] == '.txt':\n",
    "            f = open(os.path.join(dir_name, fname), encoding=\"utf8\")\n",
    "            texts.append(f.read())\n",
    "            f.close()\n",
    "            if label_type == 'neg':\n",
    "                labels.append(0)\n",
    "            else:\n",
    "                labels.append(1)"
   ]
  },
  {
   "cell_type": "code",
   "execution_count": 12,
   "id": "8bfe797e",
   "metadata": {},
   "outputs": [
    {
     "name": "stdout",
     "output_type": "stream",
     "text": [
      "88582 개의 고유한 토큰을 찾았습니다.\n",
      "데이터 텐서의 크기: (25000, 100)\n",
      "레이블 텐서의 크기: (25000,)\n"
     ]
    }
   ],
   "source": [
    "from keras.preprocessing.text import Tokenizer\n",
    "from keras.preprocessing.sequence import pad_sequences\n",
    "import numpy as np\n",
    "\n",
    "# 100개 단어 이후는 버립니다.\n",
    "maxlen = 100\n",
    "training_samples = 200 # 훈련 샘플은 200개 입니다.\n",
    "validation_samples = 10000 # 검증 샘플은 10000개 입니다.\n",
    "max_words = 10000  # 데이터셋에서 가장 빈도 높은 1만 개의 단어만 사용합니다.\n",
    "\n",
    "tokenizer = Tokenizer(num_words=max_words)\n",
    "tokenizer.fit_on_texts(texts)\n",
    "sequences = tokenizer.texts_to_sequences(texts)\n",
    "\n",
    "word_index = tokenizer.word_index\n",
    "print('%s 개의 고유한 토큰을 찾았습니다.' % len(word_index))\n",
    "\n",
    "data = pad_sequences(sequences, maxlen=maxlen)\n",
    "labels = np.asarray(labels)\n",
    "print('데이터 텐서의 크기:', data.shape)\n",
    "print('레이블 텐서의 크기:', labels.shape)\n",
    "\n",
    "# 데이터를 훈련 세트와 검증 세트로 분할합니다.\n",
    "# 샘플이 순서대로 있기 때문에 (부정 샘플이 모두 나온 후 긍정 샘플이 나옵니다) 먼저 데이터를 섞습니다.\n",
    "indices = np.arange(data.shape[0])\n",
    "np.random.shuffle(indices)\n",
    "data = data[indices]\n",
    "labels = labels[indices]\n",
    "\n",
    "x_train = data[:training_samples]\n",
    "y_train = labels[:training_samples]\n",
    "x_val = data[training_samples: training_samples + validation_samples]\n",
    "y_val = labels[training_samples: training_samples + validation_samples]"
   ]
  },
  {
   "cell_type": "code",
   "execution_count": 13,
   "id": "e6acdda0",
   "metadata": {},
   "outputs": [
    {
     "name": "stdout",
     "output_type": "stream",
     "text": [
      "400000개의 단어 벡터를 찾았습니다.\n"
     ]
    }
   ],
   "source": [
    "glove_dir = 'C:/Users/iws1/Downloads/deep-learning-with-python-notebooks-master/datasets/'\n",
    "\n",
    "embeddings_index = {}\n",
    "f = open(os.path.join(glove_dir, 'glove.6B.100d.txt'), encoding=\"utf8\")\n",
    "for line in f:\n",
    "    values = line.split()\n",
    "    word = values[0]\n",
    "    coefs = np.asarray(values[1:], dtype='float32')\n",
    "    embeddings_index[word] = coefs\n",
    "f.close()\n",
    "\n",
    "print('%s개의 단어 벡터를 찾았습니다.' % len(embeddings_index))"
   ]
  },
  {
   "cell_type": "code",
   "execution_count": 14,
   "id": "18d08a99",
   "metadata": {},
   "outputs": [],
   "source": [
    "embedding_dim = 100\n",
    "\n",
    "embedding_matrix = np.zeros((max_words, embedding_dim))\n",
    "for word, i in word_index.items():\n",
    "    if i < max_words:\n",
    "        embedding_vector = embeddings_index.get(word)\n",
    "        if embedding_vector is not None:\n",
    "            # 임베딩 인덱스에 없는 단어는 모두 0이 됩니다.\n",
    "            embedding_matrix[i] = embedding_vector"
   ]
  },
  {
   "cell_type": "code",
   "execution_count": 15,
   "id": "7b0bf96f",
   "metadata": {},
   "outputs": [
    {
     "name": "stdout",
     "output_type": "stream",
     "text": [
      "Model: \"sequential_2\"\n",
      "_________________________________________________________________\n",
      "Layer (type)                 Output Shape              Param #   \n",
      "=================================================================\n",
      "embedding_2 (Embedding)      (None, 100, 100)          1000000   \n",
      "_________________________________________________________________\n",
      "flatten_1 (Flatten)          (None, 10000)             0         \n",
      "_________________________________________________________________\n",
      "dense_1 (Dense)              (None, 32)                320032    \n",
      "_________________________________________________________________\n",
      "dense_2 (Dense)              (None, 1)                 33        \n",
      "=================================================================\n",
      "Total params: 1,320,065\n",
      "Trainable params: 1,320,065\n",
      "Non-trainable params: 0\n",
      "_________________________________________________________________\n"
     ]
    }
   ],
   "source": [
    "from keras.models import Sequential\n",
    "from keras.layers import Embedding, Flatten, Dense\n",
    "\n",
    "model = Sequential()\n",
    "model.add(Embedding(max_words, embedding_dim, input_length=maxlen))\n",
    "model.add(Flatten())\n",
    "model.add(Dense(32, activation='relu'))\n",
    "model.add(Dense(1, activation='sigmoid'))\n",
    "model.summary()"
   ]
  },
  {
   "cell_type": "code",
   "execution_count": 16,
   "id": "4b2ebe05",
   "metadata": {},
   "outputs": [],
   "source": [
    "model.layers[0].set_weights([embedding_matrix])\n",
    "model.layers[0].trainable = False"
   ]
  },
  {
   "cell_type": "code",
   "execution_count": 17,
   "id": "aac2da52",
   "metadata": {},
   "outputs": [
    {
     "name": "stdout",
     "output_type": "stream",
     "text": [
      "Epoch 1/10\n",
      "7/7 [==============================] - 1s 93ms/step - loss: 1.6413 - accuracy: 0.4850 - val_loss: 0.7070 - val_accuracy: 0.5032\n",
      "Epoch 2/10\n",
      "7/7 [==============================] - 0s 69ms/step - loss: 0.5415 - accuracy: 0.7150 - val_loss: 0.6904 - val_accuracy: 0.5345\n",
      "Epoch 3/10\n",
      "7/7 [==============================] - 0s 65ms/step - loss: 0.4227 - accuracy: 0.8200 - val_loss: 0.7690 - val_accuracy: 0.4988\n",
      "Epoch 4/10\n",
      "7/7 [==============================] - 0s 67ms/step - loss: 0.5876 - accuracy: 0.6750 - val_loss: 0.7025 - val_accuracy: 0.5438\n",
      "Epoch 5/10\n",
      "7/7 [==============================] - 0s 66ms/step - loss: 0.2991 - accuracy: 0.9150 - val_loss: 0.6825 - val_accuracy: 0.5766\n",
      "Epoch 6/10\n",
      "7/7 [==============================] - 0s 64ms/step - loss: 0.2018 - accuracy: 0.9750 - val_loss: 0.7105 - val_accuracy: 0.5639\n",
      "Epoch 7/10\n",
      "7/7 [==============================] - 0s 63ms/step - loss: 0.3436 - accuracy: 0.8500 - val_loss: 0.6818 - val_accuracy: 0.5817\n",
      "Epoch 8/10\n",
      "7/7 [==============================] - 0s 60ms/step - loss: 0.0887 - accuracy: 1.0000 - val_loss: 0.7211 - val_accuracy: 0.5794\n",
      "Epoch 9/10\n",
      "7/7 [==============================] - 0s 64ms/step - loss: 0.0596 - accuracy: 1.0000 - val_loss: 0.7748 - val_accuracy: 0.5607\n",
      "Epoch 10/10\n",
      "7/7 [==============================] - 0s 65ms/step - loss: 0.0357 - accuracy: 1.0000 - val_loss: 1.1344 - val_accuracy: 0.5143\n"
     ]
    }
   ],
   "source": [
    "model.compile(optimizer='rmsprop', loss='binary_crossentropy', metrics=['accuracy'])\n",
    "\n",
    "history = model.fit(x_train, y_train, epochs=10, batch_size=32, validation_data=(x_val, y_val))\n",
    "\n",
    "model.save_weights('pre_trained_glove_model.h5')"
   ]
  },
  {
   "cell_type": "code",
   "execution_count": 18,
   "id": "02190b7b",
   "metadata": {},
   "outputs": [
    {
     "data": {
      "image/png": "[encoded data removed]",
      "text/plain": [
       "<Figure size 432x288 with 1 Axes>"
      ]
     },
     "metadata": {
      "needs_background": "light"
     },
     "output_type": "display_data"
    },
    {
     "data": {
      "image/png": "[encoded data removed]",
      "text/plain": [
       "<Figure size 432x288 with 1 Axes>"
      ]
     },
     "metadata": {
      "needs_background": "light"
     },
     "output_type": "display_data"
    }
   ],
   "source": [
    "import matplotlib.pyplot as plt\n",
    "\n",
    "acc = history.history['accuracy']\n",
    "val_acc = history.history['val_accuracy']\n",
    "loss = history.history['loss']\n",
    "val_loss = history.history['val_loss']\n",
    "\n",
    "epochs = range(1, len(acc) + 1)\n",
    "\n",
    "plt.plot(epochs, acc, 'bo', label='Training acc')\n",
    "plt.plot(epochs, val_acc, 'b', label='Validation acc')\n",
    "plt.title('Traning and validation accuracy')\n",
    "plt.legend()\n",
    "\n",
    "plt.figure()\n",
    "\n",
    "plt.plot(epochs, loss, 'bo', label='Training loss')\n",
    "plt.plot(epochs, val_loss, 'b', label='Validation loss')\n",
    "plt.title('Traning and validation accuracy')\n",
    "plt.legend()\n",
    "\n",
    "plt.show()"
   ]
  },
  {
   "cell_type": "code",
   "execution_count": 19,
   "id": "f4437636",
   "metadata": {},
   "outputs": [
    {
     "name": "stdout",
     "output_type": "stream",
     "text": [
      "Model: \"sequential_3\"\n",
      "_________________________________________________________________\n",
      "Layer (type)                 Output Shape              Param #   \n",
      "=================================================================\n",
      "embedding_3 (Embedding)      (None, 100, 100)          1000000   \n",
      "_________________________________________________________________\n",
      "flatten_2 (Flatten)          (None, 10000)             0         \n",
      "_________________________________________________________________\n",
      "dense_3 (Dense)              (None, 32)                320032    \n",
      "_________________________________________________________________\n",
      "dense_4 (Dense)              (None, 1)                 33        \n",
      "=================================================================\n",
      "Total params: 1,320,065\n",
      "Trainable params: 1,320,065\n",
      "Non-trainable params: 0\n",
      "_________________________________________________________________\n",
      "Epoch 1/10\n",
      "7/7 [==============================] - 1s 99ms/step - loss: 0.6871 - accuracy: 0.6050 - val_loss: 0.6943 - val_accuracy: 0.5023\n",
      "Epoch 2/10\n",
      "7/7 [==============================] - 1s 72ms/step - loss: 0.4852 - accuracy: 0.9600 - val_loss: 0.7352 - val_accuracy: 0.5018\n",
      "Epoch 3/10\n",
      "7/7 [==============================] - 0s 71ms/step - loss: 0.2888 - accuracy: 0.9650 - val_loss: 0.7077 - val_accuracy: 0.5129\n",
      "Epoch 4/10\n",
      "7/7 [==============================] - 1s 78ms/step - loss: 0.1340 - accuracy: 1.0000 - val_loss: 0.7260 - val_accuracy: 0.5113\n",
      "Epoch 5/10\n",
      "7/7 [==============================] - 1s 73ms/step - loss: 0.0629 - accuracy: 1.0000 - val_loss: 0.7458 - val_accuracy: 0.5106\n",
      "Epoch 6/10\n",
      "7/7 [==============================] - 0s 71ms/step - loss: 0.0321 - accuracy: 1.0000 - val_loss: 0.7577 - val_accuracy: 0.5118\n",
      "Epoch 7/10\n",
      "7/7 [==============================] - 0s 68ms/step - loss: 0.0176 - accuracy: 1.0000 - val_loss: 0.8098 - val_accuracy: 0.5094\n",
      "Epoch 8/10\n",
      "7/7 [==============================] - 0s 70ms/step - loss: 0.0103 - accuracy: 1.0000 - val_loss: 0.8193 - val_accuracy: 0.5109\n",
      "Epoch 9/10\n",
      "7/7 [==============================] - 0s 70ms/step - loss: 0.0062 - accuracy: 1.0000 - val_loss: 0.8424 - val_accuracy: 0.5111\n",
      "Epoch 10/10\n",
      "7/7 [==============================] - 1s 83ms/step - loss: 0.0038 - accuracy: 1.0000 - val_loss: 0.8674 - val_accuracy: 0.5109\n"
     ]
    }
   ],
   "source": [
    "from keras.models import Sequential\n",
    "from keras.layers import Embedding, Flatten, Dense\n",
    "\n",
    "model = Sequential()\n",
    "model.add(Embedding(max_words, embedding_dim, input_length=maxlen))\n",
    "model.add(Flatten())\n",
    "model.add(Dense(32, activation='relu'))\n",
    "model.add(Dense(1, activation='sigmoid'))\n",
    "model.summary()\n",
    "\n",
    "model.compile(optimizer='rmsprop', loss='binary_crossentropy', metrics=['accuracy'])\n",
    "\n",
    "history = model.fit(x_train, y_train, epochs=10, batch_size=32, validation_data=(x_val, y_val))"
   ]
  },
  {
   "cell_type": "code",
   "execution_count": 20,
   "id": "3822c66b",
   "metadata": {},
   "outputs": [
    {
     "data": {
      "image/png": "[encoded data removed]",
      "text/plain": [
       "<Figure size 432x288 with 1 Axes>"
      ]
     },
     "metadata": {
      "needs_background": "light"
     },
     "output_type": "display_data"
    },
    {
     "data": {
      "image/png": "[encoded data removed]",
      "text/plain": [
       "<Figure size 432x288 with 1 Axes>"
      ]
     },
     "metadata": {
      "needs_background": "light"
     },
     "output_type": "display_data"
    }
   ],
   "source": [
    "import matplotlib.pyplot as plt\n",
    "\n",
    "acc = history.history['accuracy']\n",
    "val_acc = history.history['val_accuracy']\n",
    "loss = history.history['loss']\n",
    "val_loss = history.history['val_loss']\n",
    "\n",
    "epochs = range(1, len(acc) + 1)\n",
    "\n",
    "plt.plot(epochs, acc, 'bo', label='Training acc')\n",
    "plt.plot(epochs, val_acc, 'b', label='Validation acc')\n",
    "plt.title('Traning and validation accuracy')\n",
    "plt.legend()\n",
    "\n",
    "plt.figure()\n",
    "\n",
    "plt.plot(epochs, loss, 'bo', label='Training loss')\n",
    "plt.plot(epochs, val_loss, 'b', label='Validation loss')\n",
    "plt.title('Traning and validation accuracy')\n",
    "plt.legend()\n",
    "\n",
    "plt.show()"
   ]
  },
  {
   "cell_type": "code",
   "execution_count": 21,
   "id": "c1a6f594",
   "metadata": {},
   "outputs": [],
   "source": [
    "training_samples = 2000\n",
    "x_train = data[:training_samples]\n",
    "y_train = labels[:training_samples]\n",
    "x_val = data[training_samples: training_samples + validation_samples]\n",
    "y_val = labels[training_samples: training_samples + validation_samples]"
   ]
  },
  {
   "cell_type": "code",
   "execution_count": 22,
   "id": "6583ad8d",
   "metadata": {},
   "outputs": [
    {
     "name": "stdout",
     "output_type": "stream",
     "text": [
      "Epoch 1/10\n",
      "63/63 [==============================] - 1s 21ms/step - loss: 0.6361 - accuracy: 0.6040 - val_loss: 0.6502 - val_accuracy: 0.6176\n",
      "Epoch 2/10\n",
      "63/63 [==============================] - 1s 20ms/step - loss: 0.1706 - accuracy: 0.9870 - val_loss: 0.6165 - val_accuracy: 0.6710\n",
      "Epoch 3/10\n",
      "63/63 [==============================] - 1s 21ms/step - loss: 0.0207 - accuracy: 1.0000 - val_loss: 0.6285 - val_accuracy: 0.6969\n",
      "Epoch 4/10\n",
      "63/63 [==============================] - 1s 21ms/step - loss: 0.0023 - accuracy: 1.0000 - val_loss: 0.6844 - val_accuracy: 0.7078\n",
      "Epoch 5/10\n",
      "63/63 [==============================] - 1s 21ms/step - loss: 1.9804e-04 - accuracy: 1.0000 - val_loss: 0.7293 - val_accuracy: 0.7152\n",
      "Epoch 6/10\n",
      "63/63 [==============================] - 1s 20ms/step - loss: 1.1337e-05 - accuracy: 1.0000 - val_loss: 0.8014 - val_accuracy: 0.7216\n",
      "Epoch 7/10\n",
      "63/63 [==============================] - 1s 21ms/step - loss: 1.0705e-06 - accuracy: 1.0000 - val_loss: 0.8731 - val_accuracy: 0.7239\n",
      "Epoch 8/10\n",
      "63/63 [==============================] - 1s 21ms/step - loss: 1.8431e-07 - accuracy: 1.0000 - val_loss: 0.9290 - val_accuracy: 0.7232\n",
      "Epoch 9/10\n",
      "63/63 [==============================] - 1s 20ms/step - loss: 5.5080e-08 - accuracy: 1.0000 - val_loss: 0.9697 - val_accuracy: 0.7227\n",
      "Epoch 10/10\n",
      "63/63 [==============================] - 1s 21ms/step - loss: 2.6874e-08 - accuracy: 1.0000 - val_loss: 0.9932 - val_accuracy: 0.7227\n"
     ]
    }
   ],
   "source": [
    "history = model.fit(x_train, y_train,\n",
    "                    epochs=10,\n",
    "                    batch_size=32,\n",
    "                    validation_data=(x_val, y_val))"
   ]
  },
  {
   "cell_type": "code",
   "execution_count": 23,
   "id": "3eb501e9",
   "metadata": {},
   "outputs": [
    {
     "data": {
      "image/png": "[encoded data removed]",
      "text/plain": [
       "<Figure size 432x288 with 1 Axes>"
      ]
     },
     "metadata": {
      "needs_background": "light"
     },
     "output_type": "display_data"
    },
    {
     "data": {
      "image/png": "[encoded data removed]",
      "text/plain": [
       "<Figure size 432x288 with 1 Axes>"
      ]
     },
     "metadata": {
      "needs_background": "light"
     },
     "output_type": "display_data"
    }
   ],
   "source": [
    "acc = history.history['accuracy']\n",
    "val_acc = history.history['val_accuracy']\n",
    "loss = history.history['loss']\n",
    "val_loss = history.history['val_loss']\n",
    "\n",
    "epochs = range(1, len(acc) + 1)\n",
    "\n",
    "plt.plot(epochs, acc, 'bo', label='Training acc')\n",
    "plt.plot(epochs, val_acc, 'b', label='Validation acc')\n",
    "plt.title('Traning and validation accuracy')\n",
    "plt.legend()\n",
    "\n",
    "plt.figure()\n",
    "\n",
    "plt.plot(epochs, loss, 'bo', label='Training loss')\n",
    "plt.plot(epochs, val_loss, 'b', label='Validation loss')\n",
    "plt.title('Traning and validation accuracy')\n",
    "plt.legend()\n",
    "\n",
    "plt.show()"
   ]
  },
  {
   "cell_type": "code",
   "execution_count": 24,
   "id": "0a67bf26",
   "metadata": {},
   "outputs": [],
   "source": [
    "test_dir = os.path.join(imdb_dir, 'test')\n",
    "\n",
    "labels = []\n",
    "texts = []\n",
    "\n",
    "\n",
    "for label_type in ['neg', 'pos']:\n",
    "    dir_name = os.path.join(train_dir, label_type)\n",
    "    for fname in os.listdir(dir_name):\n",
    "        if fname[-4:] == '.txt':\n",
    "            f = open(os.path.join(dir_name, fname), encoding=\"utf8\")\n",
    "            texts.append(f.read())\n",
    "            f.close()\n",
    "            if label_type == 'neg':\n",
    "                labels.append(0)\n",
    "            else:\n",
    "                labels.append(1)\n",
    "                \n",
    "sequences = tokenizer.texts_to_sequences(texts)\n",
    "x_test = pad_sequences(sequences, maxlen=maxlen)\n",
    "y_test = np.asarray(labels)"
   ]
  },
  {
   "cell_type": "code",
   "execution_count": 25,
   "id": "f16fb727",
   "metadata": {},
   "outputs": [
    {
     "name": "stdout",
     "output_type": "stream",
     "text": [
      "782/782 [==============================] - 1s 2ms/step - loss: 1.1363 - accuracy: 0.5152: 0s - loss: 1.7\n"
     ]
    },
    {
     "data": {
      "text/plain": [
       "[1.1363059282302856, 0.5151600241661072]"
      ]
     },
     "execution_count": 25,
     "metadata": {},
     "output_type": "execute_result"
    }
   ],
   "source": [
    "model.load_weights('pre_trained_glove_model.h5')\n",
    "model.evaluate(x_test, y_test)"
   ]
  },
  {
   "cell_type": "markdown",
   "id": "f4d93916",
   "metadata": {},
   "source": [
    "# 순환 신경망 이해하기"
   ]
  },
  {
   "cell_type": "code",
   "execution_count": 26,
   "id": "e2a08d2c",
   "metadata": {},
   "outputs": [
    {
     "ename": "NameError",
     "evalue": "name 'input_sequence' is not defined",
     "output_type": "error",
     "traceback": [
      "\u001b[1;31m---------------------------------------------------------------------------\u001b[0m",
      "\u001b[1;31mNameError\u001b[0m                                 Traceback (most recent call last)",
      "\u001b[1;32m<ipython-input-26-f4c2055168eb>\u001b[0m in \u001b[0;36m<module>\u001b[1;34m\u001b[0m\n\u001b[0;32m      2\u001b[0m \u001b[0mstate_t\u001b[0m \u001b[1;33m=\u001b[0m \u001b[1;36m0\u001b[0m\u001b[1;33m\u001b[0m\u001b[1;33m\u001b[0m\u001b[0m\n\u001b[0;32m      3\u001b[0m \u001b[1;31m# 시퀀스의 원소를 반복합니다.\u001b[0m\u001b[1;33m\u001b[0m\u001b[1;33m\u001b[0m\u001b[1;33m\u001b[0m\u001b[0m\n\u001b[1;32m----> 4\u001b[1;33m \u001b[1;32mfor\u001b[0m \u001b[0minput_t\u001b[0m \u001b[1;32min\u001b[0m \u001b[0minput_sequence\u001b[0m\u001b[1;33m:\u001b[0m\u001b[1;33m\u001b[0m\u001b[1;33m\u001b[0m\u001b[0m\n\u001b[0m\u001b[0;32m      5\u001b[0m     \u001b[0moutput_t\u001b[0m \u001b[1;33m=\u001b[0m \u001b[0mf\u001b[0m\u001b[1;33m(\u001b[0m\u001b[0minput_t\u001b[0m\u001b[1;33m,\u001b[0m \u001b[0mstate_t\u001b[0m\u001b[1;33m)\u001b[0m\u001b[1;33m\u001b[0m\u001b[1;33m\u001b[0m\u001b[0m\n\u001b[0;32m      6\u001b[0m     \u001b[1;31m# 출력은 다음 반복을 위한 상태가 됩니다.\u001b[0m\u001b[1;33m\u001b[0m\u001b[1;33m\u001b[0m\u001b[1;33m\u001b[0m\u001b[0m\n",
      "\u001b[1;31mNameError\u001b[0m: name 'input_sequence' is not defined"
     ]
    }
   ],
   "source": [
    "# 타임스탭 t의 상태입니다.\n",
    "state_t = 0\n",
    "# 시퀀스의 원소를 반복합니다.\n",
    "for input_t in input_sequence:\n",
    "    output_t = f(input_t, state_t)\n",
    "    # 출력은 다음 반복을 위한 상태가 됩니다.\n",
    "    state_t = output_t"
   ]
  },
  {
   "cell_type": "code",
   "execution_count": null,
   "id": "4e8041f3",
   "metadata": {},
   "outputs": [],
   "source": [
    "state_t =0\n",
    "for input_t in input_sequence:\n",
    "    output_t = activation(dot(W, input_t) + dot(U, state_t) + b)\n",
    "    state_t = output_t"
   ]
  },
  {
   "cell_type": "code",
   "execution_count": 27,
   "id": "0ddd4299",
   "metadata": {},
   "outputs": [],
   "source": [
    "import numpy as np\n",
    "\n",
    "# 입력 시퀀스에 있는 타임스탭의 수\n",
    "timesteps = 100\n",
    "input_features = 32 # 입력 특성의 차원\n",
    "output_features = 64 # 출력 특성의 차원\n",
    "\n",
    "# 입력 데이터: 예제를 위해 생성한 난수\n",
    "inputs = np.random.random((timesteps, input_features))\n",
    "\n",
    "# 초기 상태: 모두 0인 벡터\n",
    "state_t = np.zeros((output_features, ))\n",
    "\n",
    "# 랜덤한 가중치 행렬을 만듭니다.\n",
    "W = np.random.random((output_features, input_features))\n",
    "U = np.random.random((output_features, output_features))\n",
    "b = np.random.random((output_features, ))\n",
    "\n",
    "successive_outputs = []\n",
    "# input_t는 크기가 (input_features, )인 벡터입니다.\n",
    "for input_t in inputs:\n",
    "    # 입력과 현재 상태(이전 출력)를 연결하여 현재 출력을 얻습니다.\n",
    "    output_t = np.tanh(np.dot(W, input_t) + np.dot(U, state_t) + b)\n",
    "    # 이 출력을 리스트에 저장합니다.\n",
    "    successive_outputs.append(output_t)\n",
    "    # 다음 타임스텝을 위해 네트워크의 상태를 업데이트합니다.\n",
    "    state_t = output_t\n",
    "    \n",
    "# 최종 출력은 크기가 (timesteps, output_features)인 2D 텐서 입니다.\n",
    "final_output_sequence = np.stack(successive_outputs, axis=0)"
   ]
  },
  {
   "cell_type": "code",
   "execution_count": 28,
   "id": "06f421ef",
   "metadata": {},
   "outputs": [],
   "source": [
    "import tensorflow as tf\n",
    "from keras.layers import SimpleRNN"
   ]
  },
  {
   "cell_type": "code",
   "execution_count": 29,
   "id": "14dc2377",
   "metadata": {},
   "outputs": [
    {
     "name": "stdout",
     "output_type": "stream",
     "text": [
      "Model: \"sequential_4\"\n",
      "_________________________________________________________________\n",
      "Layer (type)                 Output Shape              Param #   \n",
      "=================================================================\n",
      "embedding_4 (Embedding)      (None, None, 32)          320000    \n",
      "_________________________________________________________________\n",
      "simple_rnn (SimpleRNN)       (None, 32)                2080      \n",
      "=================================================================\n",
      "Total params: 322,080\n",
      "Trainable params: 322,080\n",
      "Non-trainable params: 0\n",
      "_________________________________________________________________\n"
     ]
    }
   ],
   "source": [
    "model = Sequential()\n",
    "model.add(Embedding(10000, 32))\n",
    "model.add(SimpleRNN(32))\n",
    "model.summary()"
   ]
  },
  {
   "cell_type": "code",
   "execution_count": 30,
   "id": "75bcb1e9",
   "metadata": {},
   "outputs": [
    {
     "name": "stdout",
     "output_type": "stream",
     "text": [
      "Model: \"sequential_5\"\n",
      "_________________________________________________________________\n",
      "Layer (type)                 Output Shape              Param #   \n",
      "=================================================================\n",
      "embedding_5 (Embedding)      (None, None, 32)          320000    \n",
      "_________________________________________________________________\n",
      "simple_rnn_1 (SimpleRNN)     (None, None, 32)          2080      \n",
      "=================================================================\n",
      "Total params: 322,080\n",
      "Trainable params: 322,080\n",
      "Non-trainable params: 0\n",
      "_________________________________________________________________\n"
     ]
    }
   ],
   "source": [
    "model = Sequential()\n",
    "model.add(Embedding(10000, 32))\n",
    "model.add(SimpleRNN(32, return_sequences=True))\n",
    "model.summary()"
   ]
  },
  {
   "cell_type": "code",
   "execution_count": 31,
   "id": "46f4d825",
   "metadata": {},
   "outputs": [
    {
     "name": "stdout",
     "output_type": "stream",
     "text": [
      "Model: \"sequential_6\"\n",
      "_________________________________________________________________\n",
      "Layer (type)                 Output Shape              Param #   \n",
      "=================================================================\n",
      "embedding_6 (Embedding)      (None, None, 32)          320000    \n",
      "_________________________________________________________________\n",
      "simple_rnn_2 (SimpleRNN)     (None, None, 32)          2080      \n",
      "_________________________________________________________________\n",
      "simple_rnn_3 (SimpleRNN)     (None, None, 32)          2080      \n",
      "_________________________________________________________________\n",
      "simple_rnn_4 (SimpleRNN)     (None, None, 32)          2080      \n",
      "_________________________________________________________________\n",
      "simple_rnn_5 (SimpleRNN)     (None, 32)                2080      \n",
      "=================================================================\n",
      "Total params: 328,320\n",
      "Trainable params: 328,320\n",
      "Non-trainable params: 0\n",
      "_________________________________________________________________\n"
     ]
    }
   ],
   "source": [
    "model = Sequential()\n",
    "model.add(Embedding(10000, 32))\n",
    "model.add(SimpleRNN(32, return_sequences=True))\n",
    "model.add(SimpleRNN(32, return_sequences=True))\n",
    "model.add(SimpleRNN(32, return_sequences=True))\n",
    "model.add(SimpleRNN(32))\n",
    "model.summary()"
   ]
  },
  {
   "cell_type": "code",
   "execution_count": 32,
   "id": "306878be",
   "metadata": {},
   "outputs": [
    {
     "name": "stdout",
     "output_type": "stream",
     "text": [
      "데이터 로딩...\n",
      "25000 훈련 시퀀스\n",
      "25000 테스트 시퀀스\n",
      "시퀀스 패딩 (samples x time)\n",
      "input_train 크기: (25000, 500)\n",
      "input_test 크기 (25000, 500)\n"
     ]
    }
   ],
   "source": [
    "from keras.datasets import imdb\n",
    "from keras.preprocessing import sequence\n",
    "\n",
    "# 특성으로 사용할 단어의 수\n",
    "max_features = 10000\n",
    "# 사용할 텍스트의 길이(가장 빈번한 max_features개의 단어만 사용합니다.)\n",
    "maxlen = 500\n",
    "batch_size = 32\n",
    "\n",
    "print('데이터 로딩...')\n",
    "(input_train, y_train), (input_test, y_test) = imdb.load_data(num_words=max_features)\n",
    "print(len(input_train), '훈련 시퀀스')\n",
    "print(len(input_test), '테스트 시퀀스')\n",
    "\n",
    "print('시퀀스 패딩 (samples x time)')\n",
    "input_train = sequence.pad_sequences(input_train, maxlen=maxlen)\n",
    "input_test = sequence.pad_sequences(input_test, maxlen=maxlen)\n",
    "print('input_train 크기:', input_train.shape)\n",
    "print('input_test 크기', input_test.shape)"
   ]
  },
  {
   "cell_type": "code",
   "execution_count": 33,
   "id": "731b0a75",
   "metadata": {},
   "outputs": [
    {
     "name": "stdout",
     "output_type": "stream",
     "text": [
      "Epoch 1/10\n",
      "157/157 [==============================] - 17s 109ms/step - loss: 0.6048 - accuracy: 0.6678 - val_loss: 0.4589 - val_accuracy: 0.8062\n",
      "Epoch 2/10\n",
      "157/157 [==============================] - 17s 110ms/step - loss: 0.3923 - accuracy: 0.8371 - val_loss: 0.3939 - val_accuracy: 0.8302\n",
      "Epoch 3/10\n",
      "157/157 [==============================] - 18s 114ms/step - loss: 0.3084 - accuracy: 0.8752 - val_loss: 0.3422 - val_accuracy: 0.8576\n",
      "Epoch 4/10\n",
      "157/157 [==============================] - 17s 109ms/step - loss: 0.2665 - accuracy: 0.8949 - val_loss: 0.3473 - val_accuracy: 0.8556\n",
      "Epoch 5/10\n",
      "157/157 [==============================] - 17s 111ms/step - loss: 0.2193 - accuracy: 0.9168 - val_loss: 0.3585 - val_accuracy: 0.8570\n",
      "Epoch 6/10\n",
      "157/157 [==============================] - 17s 110ms/step - loss: 0.1836 - accuracy: 0.9327 - val_loss: 0.4109 - val_accuracy: 0.8292\n",
      "Epoch 7/10\n",
      "157/157 [==============================] - 17s 111ms/step - loss: 0.1389 - accuracy: 0.9500 - val_loss: 0.5610 - val_accuracy: 0.8272\n",
      "Epoch 8/10\n",
      "157/157 [==============================] - 17s 111ms/step - loss: 0.1055 - accuracy: 0.9639 - val_loss: 0.4358 - val_accuracy: 0.8430\n",
      "Epoch 9/10\n",
      "157/157 [==============================] - 17s 110ms/step - loss: 0.0705 - accuracy: 0.9767 - val_loss: 0.6494 - val_accuracy: 0.7544\n",
      "Epoch 10/10\n",
      "157/157 [==============================] - 17s 111ms/step - loss: 0.0509 - accuracy: 0.9851 - val_loss: 0.5038 - val_accuracy: 0.8490\n"
     ]
    }
   ],
   "source": [
    "from keras.layers import Dense\n",
    "\n",
    "model = Sequential()\n",
    "model.add(Embedding(max_features, 32))\n",
    "model.add(SimpleRNN(32))\n",
    "model.add(Dense(1, activation='sigmoid'))\n",
    "\n",
    "model.compile(optimizer='rmsprop', loss='binary_crossentropy', metrics=['accuracy'])\n",
    "\n",
    "history = model.fit(input_train, y_train, epochs=10, batch_size=128, validation_split=0.2)"
   ]
  },
  {
   "cell_type": "code",
   "execution_count": 34,
   "id": "e7b9e9a4",
   "metadata": {},
   "outputs": [
    {
     "data": {
      "image/png": "[encoded data removed]",
      "text/plain": [
       "<Figure size 432x288 with 1 Axes>"
      ]
     },
     "metadata": {
      "needs_background": "light"
     },
     "output_type": "display_data"
    },
    {
     "data": {
      "image/png": "[encoded data removed]",
      "text/plain": [
       "<Figure size 432x288 with 1 Axes>"
      ]
     },
     "metadata": {
      "needs_background": "light"
     },
     "output_type": "display_data"
    }
   ],
   "source": [
    "import matplotlib.pyplot as plt\n",
    "\n",
    "acc = history.history['accuracy']\n",
    "val_acc = history.history['val_accuracy']\n",
    "loss = history.history['loss']\n",
    "val_loss = history.history['val_loss']\n",
    "\n",
    "epochs = range(1, len(acc) + 1)\n",
    "\n",
    "plt.plot(epochs, acc, 'bo', label='Training acc')\n",
    "plt.plot(epochs, val_acc, 'b', label='Validation acc')\n",
    "plt.title('Traning and validation accuracy')\n",
    "plt.legend()\n",
    "\n",
    "plt.figure()\n",
    "\n",
    "plt.plot(epochs, loss, 'bo', label='Training loss')\n",
    "plt.plot(epochs, val_loss, 'b', label='Validation loss')\n",
    "plt.title('Traning and validation accuracy')\n",
    "plt.legend()\n",
    "\n",
    "plt.show()"
   ]
  },
  {
   "cell_type": "code",
   "execution_count": null,
   "id": "52362a2d",
   "metadata": {},
   "outputs": [],
   "source": [
    "output_t = activation(c_t) * activation((input_t, Wo) +dot(state_t, Uo) + bo)\n",
    "\n",
    "i_t = activation(dot(state_t, Ui) + dot(input_t, Wi) + bi)\n",
    "f_t = activation(dot(state_t, Uf) + dot(input_t, Wf) + bf)\n",
    "k_t = activation(dot(state_t, Uk) + dot(input_t, Wk) + bk)"
   ]
  },
  {
   "cell_type": "code",
   "execution_count": null,
   "id": "599d384c",
   "metadata": {},
   "outputs": [],
   "source": [
    "c_t + 1 = i_t * k_t + c_t * f_t"
   ]
  },
  {
   "cell_type": "code",
   "execution_count": 36,
   "id": "60095565",
   "metadata": {},
   "outputs": [
    {
     "name": "stdout",
     "output_type": "stream",
     "text": [
      "Epoch 1/10\n",
      "157/157 [==============================] - 41s 261ms/step - loss: 0.4926 - accuracy: 0.7617 - val_loss: 0.3991 - val_accuracy: 0.8340\n",
      "Epoch 2/10\n",
      "157/157 [==============================] - 39s 251ms/step - loss: 0.2892 - accuracy: 0.8884 - val_loss: 0.3236 - val_accuracy: 0.8714\n",
      "Epoch 3/10\n",
      "157/157 [==============================] - 40s 255ms/step - loss: 0.2358 - accuracy: 0.9120 - val_loss: 0.2804 - val_accuracy: 0.8884\n",
      "Epoch 4/10\n",
      "157/157 [==============================] - 41s 259ms/step - loss: 0.2072 - accuracy: 0.9269 - val_loss: 0.2871 - val_accuracy: 0.8780\n",
      "Epoch 5/10\n",
      "157/157 [==============================] - 40s 252ms/step - loss: 0.1765 - accuracy: 0.9349 - val_loss: 0.2980 - val_accuracy: 0.8742\n",
      "Epoch 6/10\n",
      "157/157 [==============================] - 39s 250ms/step - loss: 0.1557 - accuracy: 0.9461 - val_loss: 0.3285 - val_accuracy: 0.8752\n",
      "Epoch 7/10\n",
      "157/157 [==============================] - 40s 255ms/step - loss: 0.1390 - accuracy: 0.9498 - val_loss: 0.3168 - val_accuracy: 0.8890\n",
      "Epoch 8/10\n",
      "157/157 [==============================] - 41s 261ms/step - loss: 0.1259 - accuracy: 0.9571 - val_loss: 0.3981 - val_accuracy: 0.8714\n",
      "Epoch 9/10\n",
      "157/157 [==============================] - 41s 260ms/step - loss: 0.1171 - accuracy: 0.9592 - val_loss: 0.3396 - val_accuracy: 0.8840\n",
      "Epoch 10/10\n",
      "157/157 [==============================] - 40s 255ms/step - loss: 0.1067 - accuracy: 0.9630 - val_loss: 0.3777 - val_accuracy: 0.8714\n"
     ]
    }
   ],
   "source": [
    "from keras.layers import LSTM\n",
    "\n",
    "model = Sequential()\n",
    "model.add(Embedding(max_features, 32))\n",
    "model.add(LSTM(32))\n",
    "model.add(Dense(1, activation='sigmoid'))\n",
    "\n",
    "model.compile(optimizer='rmsprop', loss='binary_crossentropy', metrics=['accuracy'])\n",
    "\n",
    "history = model.fit(input_train, y_train, epochs=10, batch_size=128, validation_split=0.2)"
   ]
  },
  {
   "cell_type": "code",
   "execution_count": 37,
   "id": "743c7408",
   "metadata": {},
   "outputs": [
    {
     "data": {
      "image/png": "[encoded data removed]",
      "text/plain": [
       "<Figure size 432x288 with 1 Axes>"
      ]
     },
     "metadata": {
      "needs_background": "light"
     },
     "output_type": "display_data"
    },
    {
     "data": {
      "image/png": "[encoded data removed]",
      "text/plain": [
       "<Figure size 432x288 with 1 Axes>"
      ]
     },
     "metadata": {
      "needs_background": "light"
     },
     "output_type": "display_data"
    }
   ],
   "source": [
    "acc = history.history['accuracy']\n",
    "val_acc = history.history['val_accuracy']\n",
    "loss = history.history['loss']\n",
    "val_loss = history.history['val_loss']\n",
    "\n",
    "epochs = range(1, len(acc) + 1)\n",
    "\n",
    "plt.plot(epochs, acc, 'bo', label='Training acc')\n",
    "plt.plot(epochs, val_acc, 'b', label='Validation acc')\n",
    "plt.title('Traning and validation accuracy')\n",
    "plt.legend()\n",
    "\n",
    "plt.figure()\n",
    "\n",
    "plt.plot(epochs, loss, 'bo', label='Training loss')\n",
    "plt.plot(epochs, val_loss, 'b', label='Validation loss')\n",
    "plt.title('Traning and validation accuracy')\n",
    "plt.legend()\n",
    "\n",
    "plt.show()"
   ]
  },
  {
   "cell_type": "markdown",
   "id": "eb9d8910",
   "metadata": {},
   "source": [
    "# 순환 신경망의 고급 사용법"
   ]
  },
  {
   "cell_type": "code",
   "execution_count": 39,
   "id": "6db0b3b6",
   "metadata": {},
   "outputs": [
    {
     "name": "stdout",
     "output_type": "stream",
     "text": [
      "['\"Date Time\"', '\"p (mbar)\"', '\"T (degC)\"', '\"Tpot (K)\"', '\"Tdew (degC)\"', '\"rh (%)\"', '\"VPmax (mbar)\"', '\"VPact (mbar)\"', '\"VPdef (mbar)\"', '\"sh (g/kg)\"', '\"H2OC (mmol/mol)\"', '\"rho (g/m**3)\"', '\"wv (m/s)\"', '\"max. wv (m/s)\"', '\"wd (deg)\"']\n",
      "420551\n"
     ]
    }
   ],
   "source": [
    "import os\n",
    "\n",
    "data_dir = 'C:/Users/iws1/Downloads/deep-learning-with-python-notebooks-master/datasets/jena_climate'\n",
    "fname = os.path.join(data_dir, 'jena_climate_2009_2016.csv')\n",
    "\n",
    "f = open(fname)\n",
    "data = f.read()\n",
    "f.close()\n",
    "\n",
    "lines = data.split('\\n')\n",
    "header = lines[0].split(',')\n",
    "lines = lines[1:]\n",
    "\n",
    "print(header)\n",
    "print(len(lines))"
   ]
  },
  {
   "cell_type": "code",
   "execution_count": 40,
   "id": "c0d090a3",
   "metadata": {},
   "outputs": [],
   "source": [
    "import numpy as np\n",
    "\n",
    "float_data = np.zeros((len(lines), len(header) - 1))\n",
    "for i, line in enumerate(lines):\n",
    "    values = [float(x) for x in line.split(',')[1:]]\n",
    "    float_data[i,:] = values"
   ]
  },
  {
   "cell_type": "code",
   "execution_count": 42,
   "id": "6353f7bd",
   "metadata": {},
   "outputs": [
    {
     "data": {
      "text/plain": [
       "[<matplotlib.lines.Line2D at 0x21ac5c03b50>]"
      ]
     },
     "execution_count": 42,
     "metadata": {},
     "output_type": "execute_result"
    },
    {
     "data": {
      "image/png": "[encoded data removed]",
      "text/plain": [
       "<Figure size 432x288 with 1 Axes>"
      ]
     },
     "metadata": {
      "needs_background": "light"
     },
     "output_type": "display_data"
    }
   ],
   "source": [
    "from matplotlib import pyplot as plt\n",
    "\n",
    "temp = float_data[:, 1] # 온도(섭씨)\n",
    "plt.plot(range(len(temp)), temp)"
   ]
  },
  {
   "cell_type": "code",
   "execution_count": 43,
   "id": "5f5fccba",
   "metadata": {},
   "outputs": [
    {
     "data": {
      "text/plain": [
       "[<matplotlib.lines.Line2D at 0x21ac60c2a30>]"
      ]
     },
     "execution_count": 43,
     "metadata": {},
     "output_type": "execute_result"
    },
    {
     "data": {
      "image/png": "[encoded data removed]",
      "text/plain": [
       "<Figure size 432x288 with 1 Axes>"
      ]
     },
     "metadata": {
      "needs_background": "light"
     },
     "output_type": "display_data"
    }
   ],
   "source": [
    "plt.plot(range(1440), temp[:1440])"
   ]
  },
  {
   "cell_type": "code",
   "execution_count": 44,
   "id": "f6828cea",
   "metadata": {},
   "outputs": [],
   "source": [
    "mean = float_data[:200000].mean(axis=0)\n",
    "float_data -= mean\n",
    "std = float_data[:200000].std(axis=0)\n",
    "float_data /= std"
   ]
  },
  {
   "cell_type": "code",
   "execution_count": 59,
   "id": "b35e5934",
   "metadata": {},
   "outputs": [],
   "source": [
    "def generator(data, lookback, delay, min_index, max_index, shuffle=False, batch_size=128, step=6):\n",
    "    if max_index is None:\n",
    "        max_index = len(data) - delay - 1\n",
    "    i = min_index + lookback\n",
    "    while 1:\n",
    "        if shuffle:\n",
    "            rows = np.random.randint(min_index + lookback, max_index, size=batch_size)\n",
    "        else:\n",
    "            if i + batch_size >= max_index:\n",
    "                i = min_index + lookback\n",
    "            rows = np.arange(i, min(i + batch_size, max_index))\n",
    "            i += len(rows)\n",
    "            \n",
    "        samples = np.zeros((len(rows), lookback // step, data.shape[-1]))\n",
    "        targets = np.zeros((len(rows), ))\n",
    "        \n",
    "        for j, row in enumerate(rows):\n",
    "            indices = range(rows[j] - lookback, rows[j], step)\n",
    "            samples[j] = data[indices]\n",
    "            targets[j] = data[rows[j] + delay][1]\n",
    "        yield samples, targets"
   ]
  },
  {
   "cell_type": "code",
   "execution_count": 60,
   "id": "e1738e21",
   "metadata": {},
   "outputs": [],
   "source": [
    "lookback = 1440\n",
    "step = 6\n",
    "delay = 144\n",
    "batch_size = 128\n",
    "\n",
    "train_gen = generator(float_data, lookback=lookback, delay=delay, min_index=0, max_index=200000, shuffle=True,\n",
    "                     step=step, batch_size=batch_size)\n",
    "val_gen = generator(float_data, lookback=lookback, delay=delay, min_index=200001, max_index=300000,\n",
    "                     step=step, batch_size=batch_size)\n",
    "test_gen = generator(float_data, lookback=lookback, delay=delay, min_index=300001, max_index=None,\n",
    "                     step=step, batch_size=batch_size)\n",
    "\n",
    "# 전체 검증 세트를 순회하기 위해 val_gen에서 추출할 횟수\n",
    "val_steps = (300000 - 200001 - lookback) // batch_size\n",
    "# 전체 테스트 세트를 순회하기 위해 testgen에서 추출할 횟수\n",
    "test_steps = (len(float_data)) - lookback"
   ]
  },
  {
   "cell_type": "code",
   "execution_count": 61,
   "id": "115f4352",
   "metadata": {},
   "outputs": [
    {
     "name": "stdout",
     "output_type": "stream",
     "text": [
      "0.2897359729905486\n"
     ]
    }
   ],
   "source": [
    "def evaluate_naive_method():\n",
    "    batch_maes = []\n",
    "    for step in range(val_steps):\n",
    "        samples, targets = next(val_gen)\n",
    "        preds = samples[:, -1, 1]\n",
    "        mae = np.mean(np.abs(preds - targets))\n",
    "        batch_maes.append(mae)\n",
    "    print(np.mean(batch_maes))\n",
    "    \n",
    "evaluate_naive_method()"
   ]
  },
  {
   "cell_type": "code",
   "execution_count": 62,
   "id": "7f3928ec",
   "metadata": {},
   "outputs": [
    {
     "name": "stdout",
     "output_type": "stream",
     "text": [
      "Epoch 1/20\n",
      "500/500 [==============================] - 13s 25ms/step - loss: 1.2477 - val_loss: 0.6414\n",
      "Epoch 2/20\n",
      "500/500 [==============================] - 12s 25ms/step - loss: 0.4235 - val_loss: 0.3266\n",
      "Epoch 3/20\n",
      "500/500 [==============================] - 12s 25ms/step - loss: 0.2936 - val_loss: 0.3131\n",
      "Epoch 4/20\n",
      "500/500 [==============================] - 13s 26ms/step - loss: 0.2682 - val_loss: 0.3076\n",
      "Epoch 5/20\n",
      "500/500 [==============================] - 14s 27ms/step - loss: 0.2552 - val_loss: 0.3397\n",
      "Epoch 6/20\n",
      "500/500 [==============================] - 13s 26ms/step - loss: 0.2456 - val_loss: 0.3130\n",
      "Epoch 7/20\n",
      "500/500 [==============================] - 13s 25ms/step - loss: 0.2382 - val_loss: 0.3417\n",
      "Epoch 8/20\n",
      "500/500 [==============================] - 12s 24ms/step - loss: 0.2339 - val_loss: 0.3179\n",
      "Epoch 9/20\n",
      "500/500 [==============================] - 12s 24ms/step - loss: 0.2298 - val_loss: 0.3141\n",
      "Epoch 10/20\n",
      "500/500 [==============================] - 12s 24ms/step - loss: 0.2232 - val_loss: 0.3225\n",
      "Epoch 11/20\n",
      "500/500 [==============================] - 12s 24ms/step - loss: 0.2208 - val_loss: 0.3238\n",
      "Epoch 12/20\n",
      "500/500 [==============================] - 12s 24ms/step - loss: 0.2162 - val_loss: 0.3285\n",
      "Epoch 13/20\n",
      "500/500 [==============================] - 12s 24ms/step - loss: 0.2138 - val_loss: 0.3398\n",
      "Epoch 14/20\n",
      "500/500 [==============================] - 12s 24ms/step - loss: 0.2107 - val_loss: 0.3348\n",
      "Epoch 15/20\n",
      "500/500 [==============================] - 12s 24ms/step - loss: 0.2091 - val_loss: 0.3529\n",
      "Epoch 16/20\n",
      "500/500 [==============================] - 12s 24ms/step - loss: 0.2060 - val_loss: 0.3314\n",
      "Epoch 17/20\n",
      "500/500 [==============================] - 12s 24ms/step - loss: 0.2061 - val_loss: 0.3509\n",
      "Epoch 18/20\n",
      "500/500 [==============================] - 12s 24ms/step - loss: 0.2021 - val_loss: 0.3387\n",
      "Epoch 19/20\n",
      "500/500 [==============================] - 12s 24ms/step - loss: 0.2014 - val_loss: 0.3320\n",
      "Epoch 20/20\n",
      "500/500 [==============================] - 12s 24ms/step - loss: 0.2000 - val_loss: 0.3261\n"
     ]
    }
   ],
   "source": [
    "from keras.models import Sequential\n",
    "from keras import layers\n",
    "from keras.optimizers import RMSprop\n",
    "\n",
    "model = Sequential()\n",
    "model.add(layers.Flatten(input_shape=(lookback // step, float_data.shape[-1])))\n",
    "model.add(layers.Dense(32, activation='relu'))\n",
    "model.add(layers.Dense(1))\n",
    "\n",
    "model.compile(optimizer='rmsprop', loss='mae')\n",
    "\n",
    "history = model.fit_generator(train_gen, steps_per_epoch=500, epochs=20, validation_data=val_gen,\n",
    "                             validation_steps=val_steps)"
   ]
  },
  {
   "cell_type": "code",
   "execution_count": 64,
   "id": "29526169",
   "metadata": {},
   "outputs": [
    {
     "data": {
      "image/png": "[encoded data removed]",
      "text/plain": [
       "<Figure size 432x288 with 1 Axes>"
      ]
     },
     "metadata": {
      "needs_background": "light"
     },
     "output_type": "display_data"
    }
   ],
   "source": [
    "loss = history.history['loss']\n",
    "val_loss = history.history['val_loss']\n",
    "\n",
    "epochs = range(1, len(loss) + 1)\n",
    "\n",
    "plt.figure()\n",
    "plt.plot(epochs, loss, 'bo', label='Training loss')\n",
    "plt.plot(epochs, val_loss, 'b', label='Validation loss')\n",
    "plt.title('Traning and validation loss')\n",
    "plt.legend()\n",
    "\n",
    "plt.show()"
   ]
  },
  {
   "cell_type": "code",
   "execution_count": 67,
   "id": "34e3aa13",
   "metadata": {},
   "outputs": [
    {
     "name": "stdout",
     "output_type": "stream",
     "text": [
      "Epoch 1/20\n",
      "500/500 [==============================] - 62s 123ms/step - loss: 0.3051 - val_loss: 0.2790\n",
      "Epoch 2/20\n",
      "500/500 [==============================] - 65s 131ms/step - loss: 0.2846 - val_loss: 0.2810\n",
      "Epoch 3/20\n",
      "500/500 [==============================] - 64s 129ms/step - loss: 0.2794 - val_loss: 0.2625\n",
      "Epoch 4/20\n",
      "500/500 [==============================] - 74s 148ms/step - loss: 0.2734 - val_loss: 0.2646\n",
      "Epoch 5/20\n",
      "500/500 [==============================] - 71s 142ms/step - loss: 0.2683 - val_loss: 0.2658\n",
      "Epoch 6/20\n",
      "500/500 [==============================] - 68s 137ms/step - loss: 0.2638 - val_loss: 0.2694\n",
      "Epoch 7/20\n",
      "500/500 [==============================] - 70s 141ms/step - loss: 0.2591 - val_loss: 0.2747\n",
      "Epoch 8/20\n",
      "500/500 [==============================] - 68s 135ms/step - loss: 0.2562 - val_loss: 0.2684\n",
      "Epoch 9/20\n",
      "500/500 [==============================] - 75s 151ms/step - loss: 0.2511 - val_loss: 0.2798\n",
      "Epoch 10/20\n",
      "500/500 [==============================] - 72s 144ms/step - loss: 0.2474 - val_loss: 0.2744\n",
      "Epoch 11/20\n",
      "500/500 [==============================] - 80s 159ms/step - loss: 0.2422 - val_loss: 0.2716\n",
      "Epoch 12/20\n",
      "500/500 [==============================] - 75s 150ms/step - loss: 0.2388 - val_loss: 0.2765\n",
      "Epoch 13/20\n",
      "500/500 [==============================] - 74s 147ms/step - loss: 0.2350 - val_loss: 0.2806\n",
      "Epoch 14/20\n",
      "500/500 [==============================] - 71s 141ms/step - loss: 0.2303 - val_loss: 0.2804\n",
      "Epoch 15/20\n",
      "500/500 [==============================] - 71s 141ms/step - loss: 0.2254 - val_loss: 0.2837\n",
      "Epoch 16/20\n",
      "500/500 [==============================] - 75s 150ms/step - loss: 0.2231 - val_loss: 0.2882\n",
      "Epoch 17/20\n",
      "500/500 [==============================] - 70s 140ms/step - loss: 0.2192 - val_loss: 0.2907\n",
      "Epoch 18/20\n",
      "500/500 [==============================] - 72s 143ms/step - loss: 0.2158 - val_loss: 0.2853\n",
      "Epoch 19/20\n",
      "500/500 [==============================] - 74s 148ms/step - loss: 0.2131 - val_loss: 0.2961\n",
      "Epoch 20/20\n",
      "500/500 [==============================] - 73s 145ms/step - loss: 0.2104 - val_loss: 0.2980\n"
     ]
    }
   ],
   "source": [
    "from keras.models import Sequential\n",
    "from keras import layers\n",
    "from keras.optimizers import RMSprop\n",
    "\n",
    "model = Sequential()\n",
    "model.add(layers.GRU(32, input_shape=(None, float_data.shape[-1])))\n",
    "model.add(layers.Dense(1))\n",
    "\n",
    "model.compile(optimizer='rmsprop', loss='mae')\n",
    "history = model.fit_generator(train_gen, steps_per_epoch=500, epochs=20, validation_data=val_gen, validation_steps=val_steps)"
   ]
  },
  {
   "cell_type": "code",
   "execution_count": 68,
   "id": "f28e9e94",
   "metadata": {},
   "outputs": [
    {
     "data": {
      "image/png": "[encoded data removed]",
      "text/plain": [
       "<Figure size 432x288 with 1 Axes>"
      ]
     },
     "metadata": {
      "needs_background": "light"
     },
     "output_type": "display_data"
    }
   ],
   "source": [
    "loss = history.history['loss']\n",
    "val_loss = history.history['val_loss']\n",
    "\n",
    "epochs = range(1, len(loss) + 1)\n",
    "\n",
    "plt.figure()\n",
    "plt.plot(epochs, loss, 'bo', label='Training loss')\n",
    "plt.plot(epochs, val_loss, 'b', label='Validation loss')\n",
    "plt.title('Traning and validation loss')\n",
    "plt.legend()\n",
    "\n",
    "plt.show()"
   ]
  },
  {
   "cell_type": "code",
   "execution_count": 69,
   "id": "396294d7",
   "metadata": {},
   "outputs": [
    {
     "name": "stdout",
     "output_type": "stream",
     "text": [
      "Epoch 1/40\n",
      "500/500 [==============================] - 105s 210ms/step - loss: 0.3381 - val_loss: 0.2885\n",
      "Epoch 2/40\n",
      "500/500 [==============================] - 103s 206ms/step - loss: 0.3099 - val_loss: 0.2785\n",
      "Epoch 3/40\n",
      "500/500 [==============================] - 109s 217ms/step - loss: 0.3015 - val_loss: 0.2770\n",
      "Epoch 4/40\n",
      "500/500 [==============================] - 108s 217ms/step - loss: 0.2969 - val_loss: 0.2706\n",
      "Epoch 5/40\n",
      "500/500 [==============================] - 106s 213ms/step - loss: 0.2927 - val_loss: 0.2857\n",
      "Epoch 6/40\n",
      "500/500 [==============================] - 102s 204ms/step - loss: 0.2885 - val_loss: 0.2758\n",
      "Epoch 7/40\n",
      "500/500 [==============================] - 103s 206ms/step - loss: 0.2859 - val_loss: 0.2708\n",
      "Epoch 8/40\n",
      "500/500 [==============================] - 108s 216ms/step - loss: 0.2809 - val_loss: 0.2710\n",
      "Epoch 9/40\n",
      "500/500 [==============================] - 102s 204ms/step - loss: 0.2772 - val_loss: 0.2751\n",
      "Epoch 10/40\n",
      "500/500 [==============================] - 102s 204ms/step - loss: 0.2735 - val_loss: 0.2734\n",
      "Epoch 11/40\n",
      "500/500 [==============================] - 106s 212ms/step - loss: 0.2710 - val_loss: 0.2753\n",
      "Epoch 12/40\n",
      "500/500 [==============================] - 106s 212ms/step - loss: 0.2672 - val_loss: 0.2787\n",
      "Epoch 13/40\n",
      "500/500 [==============================] - 105s 209ms/step - loss: 0.2653 - val_loss: 0.2870\n",
      "Epoch 14/40\n",
      "500/500 [==============================] - 101s 202ms/step - loss: 0.2613 - val_loss: 0.2829\n",
      "Epoch 15/40\n",
      "500/500 [==============================] - 101s 201ms/step - loss: 0.2611 - val_loss: 0.2818\n",
      "Epoch 16/40\n",
      "500/500 [==============================] - 103s 206ms/step - loss: 0.2600 - val_loss: 0.2887\n",
      "Epoch 17/40\n",
      "500/500 [==============================] - 107s 214ms/step - loss: 0.2554 - val_loss: 0.2857\n",
      "Epoch 18/40\n",
      "500/500 [==============================] - 102s 204ms/step - loss: 0.2539 - val_loss: 0.2872\n",
      "Epoch 19/40\n",
      "500/500 [==============================] - 104s 208ms/step - loss: 0.2515 - val_loss: 0.2967\n",
      "Epoch 20/40\n",
      "500/500 [==============================] - 103s 207ms/step - loss: 0.2524 - val_loss: 0.2954\n",
      "Epoch 21/40\n",
      "500/500 [==============================] - 106s 212ms/step - loss: 0.2480 - val_loss: 0.2976\n",
      "Epoch 22/40\n",
      "500/500 [==============================] - 109s 218ms/step - loss: 0.2463 - val_loss: 0.2947\n",
      "Epoch 23/40\n",
      "500/500 [==============================] - 99s 197ms/step - loss: 0.2458 - val_loss: 0.2971\n",
      "Epoch 24/40\n",
      "500/500 [==============================] - 98s 195ms/step - loss: 0.2445 - val_loss: 0.2955\n",
      "Epoch 25/40\n",
      "500/500 [==============================] - 97s 195ms/step - loss: 0.2433 - val_loss: 0.2998\n",
      "Epoch 26/40\n",
      "500/500 [==============================] - 96s 192ms/step - loss: 0.2398 - val_loss: 0.2998\n",
      "Epoch 27/40\n",
      "500/500 [==============================] - 102s 205ms/step - loss: 0.2403 - val_loss: 0.3001\n",
      "Epoch 28/40\n",
      "500/500 [==============================] - 104s 209ms/step - loss: 0.2382 - val_loss: 0.3008\n",
      "Epoch 29/40\n",
      "500/500 [==============================] - 101s 202ms/step - loss: 0.2365 - val_loss: 0.3023\n",
      "Epoch 30/40\n",
      "500/500 [==============================] - 103s 206ms/step - loss: 0.2365 - val_loss: 0.3048\n",
      "Epoch 31/40\n",
      "500/500 [==============================] - 100s 199ms/step - loss: 0.2338 - val_loss: 0.3051\n",
      "Epoch 32/40\n",
      "500/500 [==============================] - 105s 210ms/step - loss: 0.2330 - val_loss: 0.3079\n",
      "Epoch 33/40\n",
      "500/500 [==============================] - 99s 197ms/step - loss: 0.2315 - val_loss: 0.3091\n",
      "Epoch 34/40\n",
      "500/500 [==============================] - 108s 216ms/step - loss: 0.2297 - val_loss: 0.3042\n",
      "Epoch 35/40\n",
      "500/500 [==============================] - 102s 203ms/step - loss: 0.2307 - val_loss: 0.3084\n",
      "Epoch 36/40\n",
      "500/500 [==============================] - 100s 199ms/step - loss: 0.2284 - val_loss: 0.3124\n",
      "Epoch 37/40\n",
      "500/500 [==============================] - 98s 196ms/step - loss: 0.2281 - val_loss: 0.3067\n",
      "Epoch 38/40\n",
      "500/500 [==============================] - 97s 193ms/step - loss: 0.2268 - val_loss: 0.3090\n",
      "Epoch 39/40\n",
      "500/500 [==============================] - 97s 193ms/step - loss: 0.2262 - val_loss: 0.3111\n",
      "Epoch 40/40\n",
      "500/500 [==============================] - 101s 201ms/step - loss: 0.2247 - val_loss: 0.3225\n"
     ]
    }
   ],
   "source": [
    "model = Sequential()\n",
    "model.add(layers.GRU(32, dropout=0.2, recurrent_dropout=0.2, input_shape=(None, float_data.shape[-1])))\n",
    "model.add(layers.Dense(1))\n",
    "\n",
    "model.compile(optimizer='rmsprop', loss='mae')\n",
    "history = model.fit_generator(train_gen, steps_per_epoch=500, epochs=40, validation_data=val_gen, validation_steps=val_steps)"
   ]
  },
  {
   "cell_type": "code",
   "execution_count": 70,
   "id": "d5fef5bb",
   "metadata": {},
   "outputs": [
    {
     "data": {
      "image/png": "[encoded data removed]",
      "text/plain": [
       "<Figure size 432x288 with 1 Axes>"
      ]
     },
     "metadata": {
      "needs_background": "light"
     },
     "output_type": "display_data"
    }
   ],
   "source": [
    "loss = history.history['loss']\n",
    "val_loss = history.history['val_loss']\n",
    "\n",
    "epochs = range(1, len(loss) + 1)\n",
    "\n",
    "plt.figure()\n",
    "plt.plot(epochs, loss, 'bo', label='Training loss')\n",
    "plt.plot(epochs, val_loss, 'b', label='Validation loss')\n",
    "plt.title('Traning and validation loss')\n",
    "plt.legend()\n",
    "\n",
    "plt.show()"
   ]
  },
  {
   "cell_type": "code",
   "execution_count": 71,
   "id": "5ed8a5a0",
   "metadata": {},
   "outputs": [
    {
     "name": "stdout",
     "output_type": "stream",
     "text": [
      "Epoch 1/40\n",
      "500/500 [==============================] - 278s 556ms/step - loss: 0.3229 - val_loss: 0.2778\n",
      "Epoch 2/40\n",
      " 28/500 [>.............................] - ETA: 3:45 - loss: 0.3037"
     ]
    },
    {
     "ename": "KeyboardInterrupt",
     "evalue": "",
     "output_type": "error",
     "traceback": [
      "\u001b[1;31m---------------------------------------------------------------------------\u001b[0m",
      "\u001b[1;31mKeyboardInterrupt\u001b[0m                         Traceback (most recent call last)",
      "\u001b[1;32m<ipython-input-71-660d1282f584>\u001b[0m in \u001b[0;36m<module>\u001b[1;34m\u001b[0m\n\u001b[0;32m      5\u001b[0m \u001b[1;33m\u001b[0m\u001b[0m\n\u001b[0;32m      6\u001b[0m \u001b[0mmodel\u001b[0m\u001b[1;33m.\u001b[0m\u001b[0mcompile\u001b[0m\u001b[1;33m(\u001b[0m\u001b[0moptimizer\u001b[0m\u001b[1;33m=\u001b[0m\u001b[1;34m'rmsprop'\u001b[0m\u001b[1;33m,\u001b[0m \u001b[0mloss\u001b[0m\u001b[1;33m=\u001b[0m\u001b[1;34m'mae'\u001b[0m\u001b[1;33m)\u001b[0m\u001b[1;33m\u001b[0m\u001b[1;33m\u001b[0m\u001b[0m\n\u001b[1;32m----> 7\u001b[1;33m \u001b[0mhistory\u001b[0m \u001b[1;33m=\u001b[0m \u001b[0mmodel\u001b[0m\u001b[1;33m.\u001b[0m\u001b[0mfit_generator\u001b[0m\u001b[1;33m(\u001b[0m\u001b[0mtrain_gen\u001b[0m\u001b[1;33m,\u001b[0m \u001b[0msteps_per_epoch\u001b[0m\u001b[1;33m=\u001b[0m\u001b[1;36m500\u001b[0m\u001b[1;33m,\u001b[0m \u001b[0mepochs\u001b[0m\u001b[1;33m=\u001b[0m\u001b[1;36m40\u001b[0m\u001b[1;33m,\u001b[0m \u001b[0mvalidation_data\u001b[0m\u001b[1;33m=\u001b[0m\u001b[0mval_gen\u001b[0m\u001b[1;33m,\u001b[0m \u001b[0mvalidation_steps\u001b[0m\u001b[1;33m=\u001b[0m\u001b[0mval_steps\u001b[0m\u001b[1;33m)\u001b[0m\u001b[1;33m\u001b[0m\u001b[1;33m\u001b[0m\u001b[0m\n\u001b[0m",
      "\u001b[1;32m~\\anaconda3\\lib\\site-packages\\tensorflow\\python\\util\\deprecation.py\u001b[0m in \u001b[0;36mnew_func\u001b[1;34m(*args, **kwargs)\u001b[0m\n\u001b[0;32m    322\u001b[0m               \u001b[1;34m'in a future version'\u001b[0m \u001b[1;32mif\u001b[0m \u001b[0mdate\u001b[0m \u001b[1;32mis\u001b[0m \u001b[1;32mNone\u001b[0m \u001b[1;32melse\u001b[0m \u001b[1;33m(\u001b[0m\u001b[1;34m'after %s'\u001b[0m \u001b[1;33m%\u001b[0m \u001b[0mdate\u001b[0m\u001b[1;33m)\u001b[0m\u001b[1;33m,\u001b[0m\u001b[1;33m\u001b[0m\u001b[1;33m\u001b[0m\u001b[0m\n\u001b[0;32m    323\u001b[0m               instructions)\n\u001b[1;32m--> 324\u001b[1;33m       \u001b[1;32mreturn\u001b[0m \u001b[0mfunc\u001b[0m\u001b[1;33m(\u001b[0m\u001b[1;33m*\u001b[0m\u001b[0margs\u001b[0m\u001b[1;33m,\u001b[0m \u001b[1;33m**\u001b[0m\u001b[0mkwargs\u001b[0m\u001b[1;33m)\u001b[0m\u001b[1;33m\u001b[0m\u001b[1;33m\u001b[0m\u001b[0m\n\u001b[0m\u001b[0;32m    325\u001b[0m     return tf_decorator.make_decorator(\n\u001b[0;32m    326\u001b[0m         \u001b[0mfunc\u001b[0m\u001b[1;33m,\u001b[0m \u001b[0mnew_func\u001b[0m\u001b[1;33m,\u001b[0m \u001b[1;34m'deprecated'\u001b[0m\u001b[1;33m,\u001b[0m\u001b[1;33m\u001b[0m\u001b[1;33m\u001b[0m\u001b[0m\n",
      "\u001b[1;32m~\\anaconda3\\lib\\site-packages\\tensorflow\\python\\keras\\engine\\training.py\u001b[0m in \u001b[0;36mfit_generator\u001b[1;34m(self, generator, steps_per_epoch, epochs, verbose, callbacks, validation_data, validation_steps, validation_freq, class_weight, max_queue_size, workers, use_multiprocessing, shuffle, initial_epoch)\u001b[0m\n\u001b[0;32m   1813\u001b[0m     \"\"\"\n\u001b[0;32m   1814\u001b[0m     \u001b[0m_keras_api_gauge\u001b[0m\u001b[1;33m.\u001b[0m\u001b[0mget_cell\u001b[0m\u001b[1;33m(\u001b[0m\u001b[1;34m'fit_generator'\u001b[0m\u001b[1;33m)\u001b[0m\u001b[1;33m.\u001b[0m\u001b[0mset\u001b[0m\u001b[1;33m(\u001b[0m\u001b[1;32mTrue\u001b[0m\u001b[1;33m)\u001b[0m\u001b[1;33m\u001b[0m\u001b[1;33m\u001b[0m\u001b[0m\n\u001b[1;32m-> 1815\u001b[1;33m     return self.fit(\n\u001b[0m\u001b[0;32m   1816\u001b[0m         \u001b[0mgenerator\u001b[0m\u001b[1;33m,\u001b[0m\u001b[1;33m\u001b[0m\u001b[1;33m\u001b[0m\u001b[0m\n\u001b[0;32m   1817\u001b[0m         \u001b[0msteps_per_epoch\u001b[0m\u001b[1;33m=\u001b[0m\u001b[0msteps_per_epoch\u001b[0m\u001b[1;33m,\u001b[0m\u001b[1;33m\u001b[0m\u001b[1;33m\u001b[0m\u001b[0m\n",
      "\u001b[1;32m~\\anaconda3\\lib\\site-packages\\tensorflow\\python\\keras\\engine\\training.py\u001b[0m in \u001b[0;36m_method_wrapper\u001b[1;34m(self, *args, **kwargs)\u001b[0m\n\u001b[0;32m    106\u001b[0m   \u001b[1;32mdef\u001b[0m \u001b[0m_method_wrapper\u001b[0m\u001b[1;33m(\u001b[0m\u001b[0mself\u001b[0m\u001b[1;33m,\u001b[0m \u001b[1;33m*\u001b[0m\u001b[0margs\u001b[0m\u001b[1;33m,\u001b[0m \u001b[1;33m**\u001b[0m\u001b[0mkwargs\u001b[0m\u001b[1;33m)\u001b[0m\u001b[1;33m:\u001b[0m\u001b[1;33m\u001b[0m\u001b[1;33m\u001b[0m\u001b[0m\n\u001b[0;32m    107\u001b[0m     \u001b[1;32mif\u001b[0m \u001b[1;32mnot\u001b[0m \u001b[0mself\u001b[0m\u001b[1;33m.\u001b[0m\u001b[0m_in_multi_worker_mode\u001b[0m\u001b[1;33m(\u001b[0m\u001b[1;33m)\u001b[0m\u001b[1;33m:\u001b[0m  \u001b[1;31m# pylint: disable=protected-access\u001b[0m\u001b[1;33m\u001b[0m\u001b[1;33m\u001b[0m\u001b[0m\n\u001b[1;32m--> 108\u001b[1;33m       \u001b[1;32mreturn\u001b[0m \u001b[0mmethod\u001b[0m\u001b[1;33m(\u001b[0m\u001b[0mself\u001b[0m\u001b[1;33m,\u001b[0m \u001b[1;33m*\u001b[0m\u001b[0margs\u001b[0m\u001b[1;33m,\u001b[0m \u001b[1;33m**\u001b[0m\u001b[0mkwargs\u001b[0m\u001b[1;33m)\u001b[0m\u001b[1;33m\u001b[0m\u001b[1;33m\u001b[0m\u001b[0m\n\u001b[0m\u001b[0;32m    109\u001b[0m \u001b[1;33m\u001b[0m\u001b[0m\n\u001b[0;32m    110\u001b[0m     \u001b[1;31m# Running inside `run_distribute_coordinator` already.\u001b[0m\u001b[1;33m\u001b[0m\u001b[1;33m\u001b[0m\u001b[1;33m\u001b[0m\u001b[0m\n",
      "\u001b[1;32m~\\anaconda3\\lib\\site-packages\\tensorflow\\python\\keras\\engine\\training.py\u001b[0m in \u001b[0;36mfit\u001b[1;34m(self, x, y, batch_size, epochs, verbose, callbacks, validation_split, validation_data, shuffle, class_weight, sample_weight, initial_epoch, steps_per_epoch, validation_steps, validation_batch_size, validation_freq, max_queue_size, workers, use_multiprocessing)\u001b[0m\n\u001b[0;32m   1096\u001b[0m                 batch_size=batch_size):\n\u001b[0;32m   1097\u001b[0m               \u001b[0mcallbacks\u001b[0m\u001b[1;33m.\u001b[0m\u001b[0mon_train_batch_begin\u001b[0m\u001b[1;33m(\u001b[0m\u001b[0mstep\u001b[0m\u001b[1;33m)\u001b[0m\u001b[1;33m\u001b[0m\u001b[1;33m\u001b[0m\u001b[0m\n\u001b[1;32m-> 1098\u001b[1;33m               \u001b[0mtmp_logs\u001b[0m \u001b[1;33m=\u001b[0m \u001b[0mtrain_function\u001b[0m\u001b[1;33m(\u001b[0m\u001b[0miterator\u001b[0m\u001b[1;33m)\u001b[0m\u001b[1;33m\u001b[0m\u001b[1;33m\u001b[0m\u001b[0m\n\u001b[0m\u001b[0;32m   1099\u001b[0m               \u001b[1;32mif\u001b[0m \u001b[0mdata_handler\u001b[0m\u001b[1;33m.\u001b[0m\u001b[0mshould_sync\u001b[0m\u001b[1;33m:\u001b[0m\u001b[1;33m\u001b[0m\u001b[1;33m\u001b[0m\u001b[0m\n\u001b[0;32m   1100\u001b[0m                 \u001b[0mcontext\u001b[0m\u001b[1;33m.\u001b[0m\u001b[0masync_wait\u001b[0m\u001b[1;33m(\u001b[0m\u001b[1;33m)\u001b[0m\u001b[1;33m\u001b[0m\u001b[1;33m\u001b[0m\u001b[0m\n",
      "\u001b[1;32m~\\anaconda3\\lib\\site-packages\\tensorflow\\python\\eager\\def_function.py\u001b[0m in \u001b[0;36m__call__\u001b[1;34m(self, *args, **kwds)\u001b[0m\n\u001b[0;32m    778\u001b[0m       \u001b[1;32melse\u001b[0m\u001b[1;33m:\u001b[0m\u001b[1;33m\u001b[0m\u001b[1;33m\u001b[0m\u001b[0m\n\u001b[0;32m    779\u001b[0m         \u001b[0mcompiler\u001b[0m \u001b[1;33m=\u001b[0m \u001b[1;34m\"nonXla\"\u001b[0m\u001b[1;33m\u001b[0m\u001b[1;33m\u001b[0m\u001b[0m\n\u001b[1;32m--> 780\u001b[1;33m         \u001b[0mresult\u001b[0m \u001b[1;33m=\u001b[0m \u001b[0mself\u001b[0m\u001b[1;33m.\u001b[0m\u001b[0m_call\u001b[0m\u001b[1;33m(\u001b[0m\u001b[1;33m*\u001b[0m\u001b[0margs\u001b[0m\u001b[1;33m,\u001b[0m \u001b[1;33m**\u001b[0m\u001b[0mkwds\u001b[0m\u001b[1;33m)\u001b[0m\u001b[1;33m\u001b[0m\u001b[1;33m\u001b[0m\u001b[0m\n\u001b[0m\u001b[0;32m    781\u001b[0m \u001b[1;33m\u001b[0m\u001b[0m\n\u001b[0;32m    782\u001b[0m       \u001b[0mnew_tracing_count\u001b[0m \u001b[1;33m=\u001b[0m \u001b[0mself\u001b[0m\u001b[1;33m.\u001b[0m\u001b[0m_get_tracing_count\u001b[0m\u001b[1;33m(\u001b[0m\u001b[1;33m)\u001b[0m\u001b[1;33m\u001b[0m\u001b[1;33m\u001b[0m\u001b[0m\n",
      "\u001b[1;32m~\\anaconda3\\lib\\site-packages\\tensorflow\\python\\eager\\def_function.py\u001b[0m in \u001b[0;36m_call\u001b[1;34m(self, *args, **kwds)\u001b[0m\n\u001b[0;32m    805\u001b[0m       \u001b[1;31m# In this case we have created variables on the first call, so we run the\u001b[0m\u001b[1;33m\u001b[0m\u001b[1;33m\u001b[0m\u001b[1;33m\u001b[0m\u001b[0m\n\u001b[0;32m    806\u001b[0m       \u001b[1;31m# defunned version which is guaranteed to never create variables.\u001b[0m\u001b[1;33m\u001b[0m\u001b[1;33m\u001b[0m\u001b[1;33m\u001b[0m\u001b[0m\n\u001b[1;32m--> 807\u001b[1;33m       \u001b[1;32mreturn\u001b[0m \u001b[0mself\u001b[0m\u001b[1;33m.\u001b[0m\u001b[0m_stateless_fn\u001b[0m\u001b[1;33m(\u001b[0m\u001b[1;33m*\u001b[0m\u001b[0margs\u001b[0m\u001b[1;33m,\u001b[0m \u001b[1;33m**\u001b[0m\u001b[0mkwds\u001b[0m\u001b[1;33m)\u001b[0m  \u001b[1;31m# pylint: disable=not-callable\u001b[0m\u001b[1;33m\u001b[0m\u001b[1;33m\u001b[0m\u001b[0m\n\u001b[0m\u001b[0;32m    808\u001b[0m     \u001b[1;32melif\u001b[0m \u001b[0mself\u001b[0m\u001b[1;33m.\u001b[0m\u001b[0m_stateful_fn\u001b[0m \u001b[1;32mis\u001b[0m \u001b[1;32mnot\u001b[0m \u001b[1;32mNone\u001b[0m\u001b[1;33m:\u001b[0m\u001b[1;33m\u001b[0m\u001b[1;33m\u001b[0m\u001b[0m\n\u001b[0;32m    809\u001b[0m       \u001b[1;31m# Release the lock early so that multiple threads can perform the call\u001b[0m\u001b[1;33m\u001b[0m\u001b[1;33m\u001b[0m\u001b[1;33m\u001b[0m\u001b[0m\n",
      "\u001b[1;32m~\\anaconda3\\lib\\site-packages\\tensorflow\\python\\eager\\function.py\u001b[0m in \u001b[0;36m__call__\u001b[1;34m(self, *args, **kwargs)\u001b[0m\n\u001b[0;32m   2827\u001b[0m     \u001b[1;32mwith\u001b[0m \u001b[0mself\u001b[0m\u001b[1;33m.\u001b[0m\u001b[0m_lock\u001b[0m\u001b[1;33m:\u001b[0m\u001b[1;33m\u001b[0m\u001b[1;33m\u001b[0m\u001b[0m\n\u001b[0;32m   2828\u001b[0m       \u001b[0mgraph_function\u001b[0m\u001b[1;33m,\u001b[0m \u001b[0margs\u001b[0m\u001b[1;33m,\u001b[0m \u001b[0mkwargs\u001b[0m \u001b[1;33m=\u001b[0m \u001b[0mself\u001b[0m\u001b[1;33m.\u001b[0m\u001b[0m_maybe_define_function\u001b[0m\u001b[1;33m(\u001b[0m\u001b[0margs\u001b[0m\u001b[1;33m,\u001b[0m \u001b[0mkwargs\u001b[0m\u001b[1;33m)\u001b[0m\u001b[1;33m\u001b[0m\u001b[1;33m\u001b[0m\u001b[0m\n\u001b[1;32m-> 2829\u001b[1;33m     \u001b[1;32mreturn\u001b[0m \u001b[0mgraph_function\u001b[0m\u001b[1;33m.\u001b[0m\u001b[0m_filtered_call\u001b[0m\u001b[1;33m(\u001b[0m\u001b[0margs\u001b[0m\u001b[1;33m,\u001b[0m \u001b[0mkwargs\u001b[0m\u001b[1;33m)\u001b[0m  \u001b[1;31m# pylint: disable=protected-access\u001b[0m\u001b[1;33m\u001b[0m\u001b[1;33m\u001b[0m\u001b[0m\n\u001b[0m\u001b[0;32m   2830\u001b[0m \u001b[1;33m\u001b[0m\u001b[0m\n\u001b[0;32m   2831\u001b[0m   \u001b[1;33m@\u001b[0m\u001b[0mproperty\u001b[0m\u001b[1;33m\u001b[0m\u001b[1;33m\u001b[0m\u001b[0m\n",
      "\u001b[1;32m~\\anaconda3\\lib\\site-packages\\tensorflow\\python\\eager\\function.py\u001b[0m in \u001b[0;36m_filtered_call\u001b[1;34m(self, args, kwargs, cancellation_manager)\u001b[0m\n\u001b[0;32m   1841\u001b[0m       \u001b[0;31m`\u001b[0m\u001b[0margs\u001b[0m\u001b[0;31m`\u001b[0m \u001b[1;32mand\u001b[0m\u001b[0;31m \u001b[0m\u001b[0;31m`\u001b[0m\u001b[0mkwargs\u001b[0m\u001b[0;31m`\u001b[0m\u001b[1;33m.\u001b[0m\u001b[1;33m\u001b[0m\u001b[1;33m\u001b[0m\u001b[0m\n\u001b[0;32m   1842\u001b[0m     \"\"\"\n\u001b[1;32m-> 1843\u001b[1;33m     return self._call_flat(\n\u001b[0m\u001b[0;32m   1844\u001b[0m         [t for t in nest.flatten((args, kwargs), expand_composites=True)\n\u001b[0;32m   1845\u001b[0m          if isinstance(t, (ops.Tensor,\n",
      "\u001b[1;32m~\\anaconda3\\lib\\site-packages\\tensorflow\\python\\eager\\function.py\u001b[0m in \u001b[0;36m_call_flat\u001b[1;34m(self, args, captured_inputs, cancellation_manager)\u001b[0m\n\u001b[0;32m   1921\u001b[0m         and executing_eagerly):\n\u001b[0;32m   1922\u001b[0m       \u001b[1;31m# No tape is watching; skip to running the function.\u001b[0m\u001b[1;33m\u001b[0m\u001b[1;33m\u001b[0m\u001b[1;33m\u001b[0m\u001b[0m\n\u001b[1;32m-> 1923\u001b[1;33m       return self._build_call_outputs(self._inference_function.call(\n\u001b[0m\u001b[0;32m   1924\u001b[0m           ctx, args, cancellation_manager=cancellation_manager))\n\u001b[0;32m   1925\u001b[0m     forward_backward = self._select_forward_and_backward_functions(\n",
      "\u001b[1;32m~\\anaconda3\\lib\\site-packages\\tensorflow\\python\\eager\\function.py\u001b[0m in \u001b[0;36mcall\u001b[1;34m(self, ctx, args, cancellation_manager)\u001b[0m\n\u001b[0;32m    543\u001b[0m       \u001b[1;32mwith\u001b[0m \u001b[0m_InterpolateFunctionError\u001b[0m\u001b[1;33m(\u001b[0m\u001b[0mself\u001b[0m\u001b[1;33m)\u001b[0m\u001b[1;33m:\u001b[0m\u001b[1;33m\u001b[0m\u001b[1;33m\u001b[0m\u001b[0m\n\u001b[0;32m    544\u001b[0m         \u001b[1;32mif\u001b[0m \u001b[0mcancellation_manager\u001b[0m \u001b[1;32mis\u001b[0m \u001b[1;32mNone\u001b[0m\u001b[1;33m:\u001b[0m\u001b[1;33m\u001b[0m\u001b[1;33m\u001b[0m\u001b[0m\n\u001b[1;32m--> 545\u001b[1;33m           outputs = execute.execute(\n\u001b[0m\u001b[0;32m    546\u001b[0m               \u001b[0mstr\u001b[0m\u001b[1;33m(\u001b[0m\u001b[0mself\u001b[0m\u001b[1;33m.\u001b[0m\u001b[0msignature\u001b[0m\u001b[1;33m.\u001b[0m\u001b[0mname\u001b[0m\u001b[1;33m)\u001b[0m\u001b[1;33m,\u001b[0m\u001b[1;33m\u001b[0m\u001b[1;33m\u001b[0m\u001b[0m\n\u001b[0;32m    547\u001b[0m               \u001b[0mnum_outputs\u001b[0m\u001b[1;33m=\u001b[0m\u001b[0mself\u001b[0m\u001b[1;33m.\u001b[0m\u001b[0m_num_outputs\u001b[0m\u001b[1;33m,\u001b[0m\u001b[1;33m\u001b[0m\u001b[1;33m\u001b[0m\u001b[0m\n",
      "\u001b[1;32m~\\anaconda3\\lib\\site-packages\\tensorflow\\python\\eager\\execute.py\u001b[0m in \u001b[0;36mquick_execute\u001b[1;34m(op_name, num_outputs, inputs, attrs, ctx, name)\u001b[0m\n\u001b[0;32m     57\u001b[0m   \u001b[1;32mtry\u001b[0m\u001b[1;33m:\u001b[0m\u001b[1;33m\u001b[0m\u001b[1;33m\u001b[0m\u001b[0m\n\u001b[0;32m     58\u001b[0m     \u001b[0mctx\u001b[0m\u001b[1;33m.\u001b[0m\u001b[0mensure_initialized\u001b[0m\u001b[1;33m(\u001b[0m\u001b[1;33m)\u001b[0m\u001b[1;33m\u001b[0m\u001b[1;33m\u001b[0m\u001b[0m\n\u001b[1;32m---> 59\u001b[1;33m     tensors = pywrap_tfe.TFE_Py_Execute(ctx._handle, device_name, op_name,\n\u001b[0m\u001b[0;32m     60\u001b[0m                                         inputs, attrs, num_outputs)\n\u001b[0;32m     61\u001b[0m   \u001b[1;32mexcept\u001b[0m \u001b[0mcore\u001b[0m\u001b[1;33m.\u001b[0m\u001b[0m_NotOkStatusException\u001b[0m \u001b[1;32mas\u001b[0m \u001b[0me\u001b[0m\u001b[1;33m:\u001b[0m\u001b[1;33m\u001b[0m\u001b[1;33m\u001b[0m\u001b[0m\n",
      "\u001b[1;31mKeyboardInterrupt\u001b[0m: "
     ]
    }
   ],
   "source": [
    "model = Sequential()\n",
    "model.add(layers.GRU(32, dropout=0.1, recurrent_dropout=0.5, return_sequences=True, input_shape=(None, float_data.shape[-1])))\n",
    "model.add(layers.GRU(64, activation='relu', dropout=0.1, recurrent_dropout=0.5))\n",
    "model.add(layers.Dense(1))\n",
    "\n",
    "model.compile(optimizer='rmsprop', loss='mae')\n",
    "history = model.fit_generator(train_gen, steps_per_epoch=500, epochs=40, validation_data=val_gen, validation_steps=val_steps)"
   ]
  },
  {
   "cell_type": "code",
   "execution_count": null,
   "id": "89bee949",
   "metadata": {},
   "outputs": [],
   "source": [
    "loss = history.history['loss']\n",
    "val_loss = history.history['val_loss']\n",
    "\n",
    "epochs = range(1, len(loss) + 1)\n",
    "\n",
    "plt.figure()\n",
    "plt.plot(epochs, loss, 'bo', label='Training loss')\n",
    "plt.plot(epochs, val_loss, 'b', label='Validation loss')\n",
    "plt.title('Traning and validation loss')\n",
    "plt.legend()\n",
    "\n",
    "plt.show()"
   ]
  },
  {
   "cell_type": "markdown",
   "id": "bb544223",
   "metadata": {},
   "source": [
    "양방향 RNN 사용하기"
   ]
  },
  {
   "cell_type": "code",
   "execution_count": 73,
   "id": "e8fa1532",
   "metadata": {},
   "outputs": [
    {
     "name": "stdout",
     "output_type": "stream",
     "text": [
      "Epoch 1/10\n",
      "157/157 [==============================] - 59s 377ms/step - loss: 0.5218 - accuracy: 0.7474 - val_loss: 0.3773 - val_accuracy: 0.8486\n",
      "Epoch 2/10\n",
      "157/157 [==============================] - 60s 380ms/step - loss: 0.3268 - accuracy: 0.8728 - val_loss: 0.3496 - val_accuracy: 0.8560\n",
      "Epoch 3/10\n",
      "157/157 [==============================] - 61s 387ms/step - loss: 0.2615 - accuracy: 0.9035 - val_loss: 0.3984 - val_accuracy: 0.8220\n",
      "Epoch 4/10\n",
      "157/157 [==============================] - 64s 408ms/step - loss: 0.2251 - accuracy: 0.9173 - val_loss: 0.6154 - val_accuracy: 0.8002\n",
      "Epoch 5/10\n",
      "157/157 [==============================] - 63s 403ms/step - loss: 0.1926 - accuracy: 0.9327 - val_loss: 0.3600 - val_accuracy: 0.8620\n",
      "Epoch 6/10\n",
      "157/157 [==============================] - 63s 403ms/step - loss: 0.1727 - accuracy: 0.9412 - val_loss: 0.3705 - val_accuracy: 0.8824\n",
      "Epoch 7/10\n",
      "157/157 [==============================] - 62s 397ms/step - loss: 0.1589 - accuracy: 0.9453 - val_loss: 0.3674 - val_accuracy: 0.8806\n",
      "Epoch 8/10\n",
      "157/157 [==============================] - 61s 391ms/step - loss: 0.1464 - accuracy: 0.9483 - val_loss: 0.3971 - val_accuracy: 0.8770\n",
      "Epoch 9/10\n",
      "157/157 [==============================] - 61s 387ms/step - loss: 0.1273 - accuracy: 0.9556 - val_loss: 0.4154 - val_accuracy: 0.8740\n",
      "Epoch 10/10\n",
      "157/157 [==============================] - 61s 390ms/step - loss: 0.1227 - accuracy: 0.9564 - val_loss: 0.4157 - val_accuracy: 0.8750\n"
     ]
    }
   ],
   "source": [
    "from keras.datasets import imdb\n",
    "from keras.preprocessing import sequence\n",
    "from keras import layers\n",
    "from keras.models import Sequential\n",
    "\n",
    "max_features = 10000 # 특성으로 사용할 단어의 수\n",
    "maxlen = 500  # 사용할 텍스트의 길이(가장 빈번한 max_features개의 단어만 사용합니다.)\n",
    "\n",
    "# 데이터 로드\n",
    "(x_train, y_train), (x_test, y_test) = imdb.load_data(num_words=max_features)\n",
    "\n",
    "# 시퀀스를 뒤집습니다.\n",
    "x_train = [x[::-1] for x in x_train]\n",
    "x_test = [x[::-1] for x in x_test]\n",
    "\n",
    "# 시퀀스의 패딩을 추가합니다.\n",
    "x_train = sequence.pad_sequences(x_train, maxlen=maxlen)\n",
    "x_test = sequence.pad_sequences(x_test, maxlen=maxlen)\n",
    "\n",
    "model = Sequential()\n",
    "model.add(layers.Embedding(max_features, 128))\n",
    "model.add(layers.LSTM(32))\n",
    "model.add(layers.Dense(1, activation='sigmoid'))\n",
    "\n",
    "model.compile(optimizer='rmsprop', loss='binary_crossentropy', metrics=['accuracy'])\n",
    "\n",
    "history = model.fit(x_train, y_train, epochs=10, batch_size=128, validation_split=0.2)"
   ]
  },
  {
   "cell_type": "code",
   "execution_count": null,
   "id": "f1cecbc0",
   "metadata": {},
   "outputs": [],
   "source": [
    "loss = history.history['loss']\n",
    "val_loss = history.history['val_loss']\n",
    "\n",
    "epochs = range(1, len(loss) + 1)\n",
    "\n",
    "plt.figure()\n",
    "plt.plot(epochs, loss, 'bo', label='Training loss')\n",
    "plt.plot(epochs, val_loss, 'b', label='Validation loss')\n",
    "plt.title('Traning and validation loss')\n",
    "plt.legend()\n",
    "\n",
    "plt.show()"
   ]
  },
  {
   "cell_type": "code",
   "execution_count": null,
   "id": "d4386355",
   "metadata": {},
   "outputs": [],
   "source": [
    "model = Sequential()\n",
    "model.add(layers.Embedding(max_features, 32))\n",
    "model.add(layers.Bidirectional(layers.LSTM(32)))\n",
    "model.add(layers.Dense(1, activation='sigmoid'))\n",
    "\n",
    "model.compile(optimizer='rmsprop', loss='binary_crossentropy', metrics=['accuracy'])\n",
    "\n",
    "history = model.fit(x_train, y_train, epochs=10, batch_size=128, validation_split=0.2)"
   ]
  },
  {
   "cell_type": "code",
   "execution_count": null,
   "id": "9137e0b5",
   "metadata": {},
   "outputs": [],
   "source": [
    "loss = history.history['loss']\n",
    "val_loss = history.history['val_loss']\n",
    "\n",
    "epochs = range(1, len(loss) + 1)\n",
    "\n",
    "plt.figure()\n",
    "plt.plot(epochs, loss, 'bo', label='Training loss')\n",
    "plt.plot(epochs, val_loss, 'b', label='Validation loss')\n",
    "plt.title('Traning and validation loss')\n",
    "plt.legend()\n",
    "\n",
    "plt.show()"
   ]
  },
  {
   "cell_type": "code",
   "execution_count": null,
   "id": "be74ae8b",
   "metadata": {},
   "outputs": [],
   "source": [
    "model = Sequential()\n",
    "model.add(layers.Bidirectional(layers.GRU(32), input_shape=(None, float_data.shape[-1])))\n",
    "model.add(layers.Dense(1))\n",
    "\n",
    "model.compile(optimizer='rmsprop', loss='mae')\n",
    "\n",
    "history = model.fit_generator(train_gen, steps_per_epoch=500, epochs=40, validation_data=val_gen, validation_steps=val_steps)"
   ]
  },
  {
   "cell_type": "code",
   "execution_count": null,
   "id": "639fc728",
   "metadata": {},
   "outputs": [],
   "source": [
    "loss = history.history['loss']\n",
    "val_loss = history.history['val_loss']\n",
    "\n",
    "epochs = range(1, len(loss) + 1)\n",
    "\n",
    "plt.figure()\n",
    "plt.plot(epochs, loss, 'bo', label='Training loss')\n",
    "plt.plot(epochs, val_loss, 'b', label='Validation loss')\n",
    "plt.title('Traning and validation loss')\n",
    "plt.legend()\n",
    "\n",
    "plt.show()"
   ]
  },
  {
   "cell_type": "markdown",
   "id": "f4992583",
   "metadata": {},
   "source": [
    "# 컨브넷을 사용한 시퀀스 처리"
   ]
  },
  {
   "cell_type": "code",
   "execution_count": 74,
   "id": "c4703867",
   "metadata": {},
   "outputs": [
    {
     "name": "stdout",
     "output_type": "stream",
     "text": [
      "데이터 로드...\n",
      "25000 훈련 시퀀스\n",
      "25000 테스트 시퀀스\n",
      "시퀀스 패딩 (smaples x time)\n",
      "x_train 크기: (25000, 500)\n",
      "x_test 크기: (25000, 500)\n"
     ]
    }
   ],
   "source": [
    "from keras.datasets import imdb\n",
    "from keras.preprocessing import sequence\n",
    "\n",
    "max_features = 10000\n",
    "max_len = 500\n",
    "\n",
    "print('데이터 로드...')\n",
    "(x_train, y_train), (x_test, y_test) = imdb.load_data(num_words=max_features)\n",
    "print(len(x_train), '훈련 시퀀스')\n",
    "print(len(x_test), '테스트 시퀀스')\n",
    "\n",
    "\n",
    "# 시퀀스의 패딩을 추가합니다.\n",
    "print('시퀀스 패딩 (smaples x time)')\n",
    "x_train = sequence.pad_sequences(x_train, maxlen=max_len)\n",
    "x_test = sequence.pad_sequences(x_test, maxlen=max_len)\n",
    "print('x_train 크기:', x_train.shape)\n",
    "print('x_test 크기:', x_test.shape)"
   ]
  },
  {
   "cell_type": "code",
   "execution_count": 76,
   "id": "f2d97f6e",
   "metadata": {},
   "outputs": [
    {
     "name": "stdout",
     "output_type": "stream",
     "text": [
      "Model: \"sequential_19\"\n",
      "_________________________________________________________________\n",
      "Layer (type)                 Output Shape              Param #   \n",
      "=================================================================\n",
      "embedding_10 (Embedding)     (None, 500, 128)          1280000   \n",
      "_________________________________________________________________\n",
      "conv1d (Conv1D)              (None, 494, 32)           28704     \n",
      "_________________________________________________________________\n",
      "max_pooling1d (MaxPooling1D) (None, 98, 32)            0         \n",
      "_________________________________________________________________\n",
      "conv1d_1 (Conv1D)            (None, 92, 32)            7200      \n",
      "_________________________________________________________________\n",
      "global_max_pooling1d (Global (None, 32)                0         \n",
      "_________________________________________________________________\n",
      "dense_20 (Dense)             (None, 1)                 33        \n",
      "=================================================================\n",
      "Total params: 1,315,937\n",
      "Trainable params: 1,315,937\n",
      "Non-trainable params: 0\n",
      "_________________________________________________________________\n",
      "Epoch 1/10\n",
      "157/157 [==============================] - 46s 290ms/step - loss: 7.7364 - accuracy: 0.4985 - val_loss: 7.6168 - val_accuracy: 0.5062\n",
      "Epoch 2/10\n",
      "157/157 [==============================] - 45s 284ms/step - loss: 7.7364 - accuracy: 0.4985 - val_loss: 7.6168 - val_accuracy: 0.5062\n",
      "Epoch 3/10\n",
      "157/157 [==============================] - 44s 280ms/step - loss: 7.7364 - accuracy: 0.4985 - val_loss: 7.6168 - val_accuracy: 0.5062\n",
      "Epoch 4/10\n",
      "157/157 [==============================] - 44s 282ms/step - loss: 7.7364 - accuracy: 0.4985 - val_loss: 7.6168 - val_accuracy: 0.5062\n",
      "Epoch 5/10\n",
      "157/157 [==============================] - 43s 276ms/step - loss: 7.7364 - accuracy: 0.4985 - val_loss: 7.6168 - val_accuracy: 0.5062\n",
      "Epoch 6/10\n",
      "157/157 [==============================] - 44s 278ms/step - loss: 7.7364 - accuracy: 0.4985 - val_loss: 7.6168 - val_accuracy: 0.5062\n",
      "Epoch 7/10\n",
      "157/157 [==============================] - 44s 283ms/step - loss: 7.7364 - accuracy: 0.4985 - val_loss: 7.6168 - val_accuracy: 0.5062\n",
      "Epoch 8/10\n",
      "157/157 [==============================] - 43s 274ms/step - loss: 7.7364 - accuracy: 0.4985 - val_loss: 7.6168 - val_accuracy: 0.5062\n",
      "Epoch 9/10\n",
      "157/157 [==============================] - 44s 277ms/step - loss: 7.7364 - accuracy: 0.4985 - val_loss: 7.6168 - val_accuracy: 0.5062\n",
      "Epoch 10/10\n",
      "157/157 [==============================] - 43s 274ms/step - loss: 7.7364 - accuracy: 0.4985 - val_loss: 7.6168 - val_accuracy: 0.5062\n"
     ]
    }
   ],
   "source": [
    "from keras.models import Sequential\n",
    "from keras import layers\n",
    "from keras.optimizers import RMSprop\n",
    "\n",
    "model = Sequential()\n",
    "model.add(layers.Embedding(max_features, 128, input_length=max_len))\n",
    "model.add(layers.Conv1D(32, 7, activation='relu'))\n",
    "model.add(layers.MaxPooling1D(5))\n",
    "model.add(layers.Conv1D(32, 7, activation='relu'))\n",
    "model.add(layers.GlobalMaxPooling1D())\n",
    "model.add(layers.Dense(1))\n",
    "\n",
    "model.summary()\n",
    "\n",
    "model.compile(optimizer=RMSprop(lr=1e-4), loss='binary_crossentropy', metrics=['accuracy'])\n",
    "\n",
    "history = model.fit(x_train, y_train, epochs=10, batch_size=128, validation_split=0.2)"
   ]
  },
  {
   "cell_type": "code",
   "execution_count": 77,
   "id": "0217afe5",
   "metadata": {},
   "outputs": [
    {
     "data": {
      "image/png": "[encoded data removed]",
      "text/plain": [
       "<Figure size 432x288 with 1 Axes>"
      ]
     },
     "metadata": {
      "needs_background": "light"
     },
     "output_type": "display_data"
    },
    {
     "data": {
      "image/png": "[encoded data removed]",
      "text/plain": [
       "<Figure size 432x288 with 1 Axes>"
      ]
     },
     "metadata": {
      "needs_background": "light"
     },
     "output_type": "display_data"
    }
   ],
   "source": [
    "acc = history.history['accuracy']\n",
    "val_acc = history.history['val_accuracy']\n",
    "loss = history.history['loss']\n",
    "val_loss = history.history['val_loss']\n",
    "\n",
    "epochs = range(1, len(acc) + 1)\n",
    "\n",
    "plt.plot(epochs, acc, 'bo', label='Training acc')\n",
    "plt.plot(epochs, val_acc, 'b', label='Validation acc')\n",
    "plt.title('Traning and validation accuracy')\n",
    "plt.legend()\n",
    "\n",
    "plt.figure()\n",
    "\n",
    "plt.plot(epochs, loss, 'bo', label='Training loss')\n",
    "plt.plot(epochs, val_loss, 'b', label='Validation loss')\n",
    "plt.title('Traning and validation accuracy')\n",
    "plt.legend()\n",
    "\n",
    "plt.show()"
   ]
  },
  {
   "cell_type": "code",
   "execution_count": 78,
   "id": "66330105",
   "metadata": {},
   "outputs": [
    {
     "name": "stdout",
     "output_type": "stream",
     "text": [
      "Model: \"sequential_20\"\n",
      "_________________________________________________________________\n",
      "Layer (type)                 Output Shape              Param #   \n",
      "=================================================================\n",
      "conv1d_2 (Conv1D)            (None, None, 32)          2272      \n",
      "_________________________________________________________________\n",
      "max_pooling1d_1 (MaxPooling1 (None, None, 32)          0         \n",
      "_________________________________________________________________\n",
      "conv1d_3 (Conv1D)            (None, None, 32)          5152      \n",
      "_________________________________________________________________\n",
      "max_pooling1d_2 (MaxPooling1 (None, None, 32)          0         \n",
      "_________________________________________________________________\n",
      "conv1d_4 (Conv1D)            (None, None, 32)          5152      \n",
      "_________________________________________________________________\n",
      "global_max_pooling1d_1 (Glob (None, 32)                0         \n",
      "_________________________________________________________________\n",
      "dense_21 (Dense)             (None, 1)                 33        \n",
      "=================================================================\n",
      "Total params: 12,609\n",
      "Trainable params: 12,609\n",
      "Non-trainable params: 0\n",
      "_________________________________________________________________\n",
      "Epoch 1/20\n",
      "500/500 [==============================] - 27s 55ms/step - loss: 0.4185 - val_loss: 0.4295\n",
      "Epoch 2/20\n",
      "500/500 [==============================] - 30s 60ms/step - loss: 0.3663 - val_loss: 0.5018\n",
      "Epoch 3/20\n",
      "500/500 [==============================] - 26s 51ms/step - loss: 0.3416 - val_loss: 0.5100\n",
      "Epoch 4/20\n",
      "500/500 [==============================] - 29s 57ms/step - loss: 0.3225 - val_loss: 0.4618\n",
      "Epoch 5/20\n",
      "500/500 [==============================] - 29s 59ms/step - loss: 0.3098 - val_loss: 0.4524\n",
      "Epoch 6/20\n",
      "500/500 [==============================] - 30s 61ms/step - loss: 0.2984 - val_loss: 0.4646\n",
      "Epoch 7/20\n",
      "500/500 [==============================] - 30s 61ms/step - loss: 0.2917 - val_loss: 0.4541\n",
      "Epoch 8/20\n",
      "500/500 [==============================] - 31s 62ms/step - loss: 0.2829 - val_loss: 0.4781\n",
      "Epoch 9/20\n",
      "500/500 [==============================] - 26s 53ms/step - loss: 0.2764 - val_loss: 0.4731\n",
      "Epoch 10/20\n",
      "500/500 [==============================] - 25s 50ms/step - loss: 0.2732 - val_loss: 0.4629\n",
      "Epoch 11/20\n",
      "500/500 [==============================] - 25s 51ms/step - loss: 0.2686 - val_loss: 0.4655\n",
      "Epoch 12/20\n",
      "500/500 [==============================] - 27s 54ms/step - loss: 0.2647 - val_loss: 0.4629\n",
      "Epoch 13/20\n",
      "500/500 [==============================] - 26s 51ms/step - loss: 0.2613 - val_loss: 0.4702\n",
      "Epoch 14/20\n",
      "500/500 [==============================] - 30s 59ms/step - loss: 0.2574 - val_loss: 0.4741\n",
      "Epoch 15/20\n",
      "500/500 [==============================] - 29s 57ms/step - loss: 0.2551 - val_loss: 0.4760\n",
      "Epoch 16/20\n",
      "500/500 [==============================] - 27s 55ms/step - loss: 0.2510 - val_loss: 0.4866\n",
      "Epoch 17/20\n",
      "500/500 [==============================] - 26s 52ms/step - loss: 0.2489 - val_loss: 0.4832\n",
      "Epoch 18/20\n",
      "500/500 [==============================] - 26s 52ms/step - loss: 0.2462 - val_loss: 0.4688\n",
      "Epoch 19/20\n",
      "500/500 [==============================] - 27s 54ms/step - loss: 0.2425 - val_loss: 0.4785\n",
      "Epoch 20/20\n",
      "500/500 [==============================] - 27s 54ms/step - loss: 0.2428 - val_loss: 0.4782\n"
     ]
    }
   ],
   "source": [
    "model = Sequential()\n",
    "model.add(layers.Conv1D(32, 5, activation='relu', input_shape=(None, float_data.shape[-1])))\n",
    "model.add(layers.MaxPooling1D(3))\n",
    "model.add(layers.Conv1D(32, 5, activation='relu'))\n",
    "model.add(layers.MaxPooling1D(3))\n",
    "model.add(layers.Conv1D(32, 5, activation='relu'))\n",
    "model.add(layers.GlobalMaxPooling1D())\n",
    "model.add(layers.Dense(1))\n",
    "\n",
    "model.summary()\n",
    "\n",
    "model.compile(optimizer=RMSprop(), loss='mae')\n",
    "\n",
    "history = model.fit_generator(train_gen, steps_per_epoch=500, epochs=20, validation_data=val_gen, validation_steps=val_steps)"
   ]
  },
  {
   "cell_type": "code",
   "execution_count": 79,
   "id": "e106da32",
   "metadata": {},
   "outputs": [],
   "source": [
    "step = 3\n",
    "lookback = 1440\n",
    "delay = 144\n",
    "\n",
    "\n",
    "train_gen = generator(float_data, lookback=lookback, delay=delay, min_index=0, max_index=200000, shuffle=True,\n",
    "                     step=step)\n",
    "val_gen = generator(float_data, lookback=lookback, delay=delay, min_index=200001, max_index=300000,\n",
    "                     step=step)\n",
    "test_gen = generator(float_data, lookback=lookback, delay=delay, min_index=300001, max_index=None,\n",
    "                     step=step)\n",
    "\n",
    "val_steps = (300000 - 200001 - lookback) // 128\n",
    "test_steps = (len(float_data) - 300001 - lookback) // 128"
   ]
  },
  {
   "cell_type": "code",
   "execution_count": 80,
   "id": "e1470928",
   "metadata": {},
   "outputs": [
    {
     "name": "stdout",
     "output_type": "stream",
     "text": [
      "Model: \"sequential_21\"\n",
      "_________________________________________________________________\n",
      "Layer (type)                 Output Shape              Param #   \n",
      "=================================================================\n",
      "conv1d_5 (Conv1D)            (None, None, 32)          2272      \n",
      "_________________________________________________________________\n",
      "max_pooling1d_3 (MaxPooling1 (None, None, 32)          0         \n",
      "_________________________________________________________________\n",
      "conv1d_6 (Conv1D)            (None, None, 32)          5152      \n",
      "_________________________________________________________________\n",
      "gru_6 (GRU)                  (None, 32)                6336      \n",
      "_________________________________________________________________\n",
      "dense_22 (Dense)             (None, 1)                 33        \n",
      "=================================================================\n",
      "Total params: 13,793\n",
      "Trainable params: 13,793\n",
      "Non-trainable params: 0\n",
      "_________________________________________________________________\n",
      "Epoch 1/20\n",
      "500/500 [==============================] - 106s 212ms/step - loss: 0.3306 - val_loss: 0.2842\n",
      "Epoch 2/20\n",
      "500/500 [==============================] - 108s 215ms/step - loss: 0.2943 - val_loss: 0.2750\n",
      "Epoch 3/20\n",
      "500/500 [==============================] - 110s 220ms/step - loss: 0.2826 - val_loss: 0.2721\n",
      "Epoch 4/20\n",
      "500/500 [==============================] - 115s 230ms/step - loss: 0.2718 - val_loss: 0.2867\n",
      "Epoch 5/20\n",
      "500/500 [==============================] - 118s 237ms/step - loss: 0.2646 - val_loss: 0.2841\n",
      "Epoch 6/20\n",
      "500/500 [==============================] - 117s 235ms/step - loss: 0.2558 - val_loss: 0.2853\n",
      "Epoch 7/20\n",
      "500/500 [==============================] - 116s 232ms/step - loss: 0.2508 - val_loss: 0.2852\n",
      "Epoch 8/20\n",
      "500/500 [==============================] - 112s 224ms/step - loss: 0.2446 - val_loss: 0.2878\n",
      "Epoch 9/20\n",
      "500/500 [==============================] - 117s 235ms/step - loss: 0.2401 - val_loss: 0.2830\n",
      "Epoch 10/20\n",
      "500/500 [==============================] - 117s 234ms/step - loss: 0.2345 - val_loss: 0.2931\n",
      "Epoch 11/20\n",
      "500/500 [==============================] - 113s 227ms/step - loss: 0.2287 - val_loss: 0.3016\n",
      "Epoch 12/20\n",
      "500/500 [==============================] - 119s 238ms/step - loss: 0.2227 - val_loss: 0.2943\n",
      "Epoch 13/20\n",
      "500/500 [==============================] - 117s 233ms/step - loss: 0.2187 - val_loss: 0.3048\n",
      "Epoch 14/20\n",
      "500/500 [==============================] - 122s 244ms/step - loss: 0.2141 - val_loss: 0.2993\n",
      "Epoch 15/20\n",
      "500/500 [==============================] - 125s 249ms/step - loss: 0.2109 - val_loss: 0.3034\n",
      "Epoch 16/20\n",
      "500/500 [==============================] - 118s 237ms/step - loss: 0.2082 - val_loss: 0.3046\n",
      "Epoch 17/20\n",
      "500/500 [==============================] - 118s 236ms/step - loss: 0.2044 - val_loss: 0.3101\n",
      "Epoch 18/20\n",
      "500/500 [==============================] - 111s 221ms/step - loss: 0.2026 - val_loss: 0.3076\n",
      "Epoch 19/20\n",
      "500/500 [==============================] - 107s 214ms/step - loss: 0.1991 - val_loss: 0.3083\n",
      "Epoch 20/20\n",
      "500/500 [==============================] - 111s 222ms/step - loss: 0.1967 - val_loss: 0.3077\n"
     ]
    }
   ],
   "source": [
    "model = Sequential()\n",
    "model.add(layers.Conv1D(32, 5, activation='relu', input_shape=(None, float_data.shape[-1])))\n",
    "model.add(layers.MaxPooling1D(3))\n",
    "model.add(layers.Conv1D(32, 5, activation='relu'))\n",
    "model.add(layers.GRU(32, dropout=0.1, recurrent_dropout=0.5))\n",
    "model.add(layers.Dense(1))\n",
    "\n",
    "model.summary()\n",
    "\n",
    "model.compile(optimizer=RMSprop(), loss='mae')\n",
    "\n",
    "history = model.fit_generator(train_gen, steps_per_epoch=500, epochs=20, validation_data=val_gen, validation_steps=val_steps)"
   ]
  },
  {
   "cell_type": "code",
   "execution_count": null,
   "id": "77914a3b",
   "metadata": {},
   "outputs": [],
   "source": []
  }
 ],
 "metadata": {
  "kernelspec": {
   "display_name": "Python 3",
   "language": "python",
   "name": "python3"
  },
  "language_info": {
   "codemirror_mode": {
    "name": "ipython",
    "version": 3
   },
   "file_extension": ".py",
   "mimetype": "text/x-python",
   "name": "python",
   "nbconvert_exporter": "python",
   "pygments_lexer": "ipython3",
   "version": "3.8.8"
  }
 },
 "nbformat": 4,
 "nbformat_minor": 5
}
